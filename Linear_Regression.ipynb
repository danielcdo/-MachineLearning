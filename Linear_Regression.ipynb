{
  "nbformat": 4,
  "nbformat_minor": 0,
  "metadata": {
    "colab": {
      "name": "Linear Regression.ipynb",
      "provenance": [],
      "collapsed_sections": [],
      "authorship_tag": "ABX9TyNrmKLJW9k2fPJr0gd+VXeT",
      "include_colab_link": true
    },
    "kernelspec": {
      "name": "python3",
      "display_name": "Python 3"
    }
  },
  "cells": [
    {
      "cell_type": "markdown",
      "metadata": {
        "id": "view-in-github",
        "colab_type": "text"
      },
      "source": [
        "<a href=\"https://colab.research.google.com/github/danielcdo/-MachineLearning/blob/main/Linear_Regression.ipynb\" target=\"_parent\"><img src=\"https://colab.research.google.com/assets/colab-badge.svg\" alt=\"Open In Colab\"/></a>"
      ]
    },
    {
      "cell_type": "markdown",
      "metadata": {
        "id": "aC6b1nC_i-HT"
      },
      "source": [
        "# **Linear Regression**"
      ]
    },
    {
      "cell_type": "markdown",
      "metadata": {
        "id": "h040xNGHi7xV"
      },
      "source": [
        "Import Python packages\n"
      ]
    },
    {
      "cell_type": "code",
      "metadata": {
        "id": "_OMfxjydjg_Q"
      },
      "source": [
        "import numpy as np\n",
        "import pandas as pd\n",
        "\n",
        "from matplotlib import pyplot as plt\n",
        "import pylab as pl\n",
        "\n",
        "from sklearn import linear_model\n",
        "from sklearn.model_selection import train_test_split\n",
        "from sklearn.metrics import r2_score, mean_squared_error, mean_absolute_error\n",
        "\n",
        "from math import sqrt"
      ],
      "execution_count": null,
      "outputs": []
    },
    {
      "cell_type": "markdown",
      "metadata": {
        "id": "oVAf5dGIiq50"
      },
      "source": [
        "**Download the dataset**\n",
        "\n",
        "Details: car's engine vs CO2 emmition - FuelConsumptionCo2.csv"
      ]
    },
    {
      "cell_type": "code",
      "metadata": {
        "id": "yyUHHCgRkomN",
        "outputId": "829a5442-6d80-4650-837c-b31ae0f1f595",
        "colab": {
          "base_uri": "https://localhost:8080/"
        }
      },
      "source": [
        "!wget https://raw.githubusercontent.com/diogocortiz/Crash-Course-IA/master/RegressaoLinear/FuelConsumptionCo2.csv"
      ],
      "execution_count": null,
      "outputs": [
        {
          "output_type": "stream",
          "text": [
            "--2020-11-14 02:20:47--  https://raw.githubusercontent.com/diogocortiz/Crash-Course-IA/master/RegressaoLinear/FuelConsumptionCo2.csv\n",
            "Resolving raw.githubusercontent.com (raw.githubusercontent.com)... 151.101.0.133, 151.101.64.133, 151.101.128.133, ...\n",
            "Connecting to raw.githubusercontent.com (raw.githubusercontent.com)|151.101.0.133|:443... connected.\n",
            "HTTP request sent, awaiting response... 200 OK\n",
            "Length: 72629 (71K) [text/plain]\n",
            "Saving to: ‘FuelConsumptionCo2.csv’\n",
            "\n",
            "FuelConsumptionCo2. 100%[===================>]  70.93K  --.-KB/s    in 0.005s  \n",
            "\n",
            "2020-11-14 02:20:47 (15.0 MB/s) - ‘FuelConsumptionCo2.csv’ saved [72629/72629]\n",
            "\n"
          ],
          "name": "stdout"
        }
      ]
    },
    {
      "cell_type": "markdown",
      "metadata": {
        "id": "ayNzU1CRiqWt"
      },
      "source": [
        "# Dataset as a Pandas Dataframe"
      ]
    },
    {
      "cell_type": "code",
      "metadata": {
        "id": "lyvyVRqWlNmP"
      },
      "source": [
        "df = pd.read_csv(\"FuelConsumptionCo2.csv\")"
      ],
      "execution_count": null,
      "outputs": []
    },
    {
      "cell_type": "code",
      "metadata": {
        "id": "vNi_vtxnlZOb",
        "outputId": "3fcb1e52-ce82-4849-b0b5-3a97a9b8eac8",
        "colab": {
          "base_uri": "https://localhost:8080/",
          "height": 283
        }
      },
      "source": [
        "df.head()\n",
        "df.describe()\n",
        "#df.columns"
      ],
      "execution_count": null,
      "outputs": [
        {
          "output_type": "execute_result",
          "data": {
            "text/html": [
              "<div>\n",
              "<style scoped>\n",
              "    .dataframe tbody tr th:only-of-type {\n",
              "        vertical-align: middle;\n",
              "    }\n",
              "\n",
              "    .dataframe tbody tr th {\n",
              "        vertical-align: top;\n",
              "    }\n",
              "\n",
              "    .dataframe thead th {\n",
              "        text-align: right;\n",
              "    }\n",
              "</style>\n",
              "<table border=\"1\" class=\"dataframe\">\n",
              "  <thead>\n",
              "    <tr style=\"text-align: right;\">\n",
              "      <th></th>\n",
              "      <th>MODELYEAR</th>\n",
              "      <th>ENGINESIZE</th>\n",
              "      <th>CYLINDERS</th>\n",
              "      <th>FUELCONSUMPTION_CITY</th>\n",
              "      <th>FUELCONSUMPTION_HWY</th>\n",
              "      <th>FUELCONSUMPTION_COMB</th>\n",
              "      <th>FUELCONSUMPTION_COMB_MPG</th>\n",
              "      <th>CO2EMISSIONS</th>\n",
              "    </tr>\n",
              "  </thead>\n",
              "  <tbody>\n",
              "    <tr>\n",
              "      <th>count</th>\n",
              "      <td>1067.0</td>\n",
              "      <td>1067.000000</td>\n",
              "      <td>1067.000000</td>\n",
              "      <td>1067.000000</td>\n",
              "      <td>1067.000000</td>\n",
              "      <td>1067.000000</td>\n",
              "      <td>1067.000000</td>\n",
              "      <td>1067.000000</td>\n",
              "    </tr>\n",
              "    <tr>\n",
              "      <th>mean</th>\n",
              "      <td>2014.0</td>\n",
              "      <td>3.346298</td>\n",
              "      <td>5.794752</td>\n",
              "      <td>13.296532</td>\n",
              "      <td>9.474602</td>\n",
              "      <td>11.580881</td>\n",
              "      <td>26.441425</td>\n",
              "      <td>256.228679</td>\n",
              "    </tr>\n",
              "    <tr>\n",
              "      <th>std</th>\n",
              "      <td>0.0</td>\n",
              "      <td>1.415895</td>\n",
              "      <td>1.797447</td>\n",
              "      <td>4.101253</td>\n",
              "      <td>2.794510</td>\n",
              "      <td>3.485595</td>\n",
              "      <td>7.468702</td>\n",
              "      <td>63.372304</td>\n",
              "    </tr>\n",
              "    <tr>\n",
              "      <th>min</th>\n",
              "      <td>2014.0</td>\n",
              "      <td>1.000000</td>\n",
              "      <td>3.000000</td>\n",
              "      <td>4.600000</td>\n",
              "      <td>4.900000</td>\n",
              "      <td>4.700000</td>\n",
              "      <td>11.000000</td>\n",
              "      <td>108.000000</td>\n",
              "    </tr>\n",
              "    <tr>\n",
              "      <th>25%</th>\n",
              "      <td>2014.0</td>\n",
              "      <td>2.000000</td>\n",
              "      <td>4.000000</td>\n",
              "      <td>10.250000</td>\n",
              "      <td>7.500000</td>\n",
              "      <td>9.000000</td>\n",
              "      <td>21.000000</td>\n",
              "      <td>207.000000</td>\n",
              "    </tr>\n",
              "    <tr>\n",
              "      <th>50%</th>\n",
              "      <td>2014.0</td>\n",
              "      <td>3.400000</td>\n",
              "      <td>6.000000</td>\n",
              "      <td>12.600000</td>\n",
              "      <td>8.800000</td>\n",
              "      <td>10.900000</td>\n",
              "      <td>26.000000</td>\n",
              "      <td>251.000000</td>\n",
              "    </tr>\n",
              "    <tr>\n",
              "      <th>75%</th>\n",
              "      <td>2014.0</td>\n",
              "      <td>4.300000</td>\n",
              "      <td>8.000000</td>\n",
              "      <td>15.550000</td>\n",
              "      <td>10.850000</td>\n",
              "      <td>13.350000</td>\n",
              "      <td>31.000000</td>\n",
              "      <td>294.000000</td>\n",
              "    </tr>\n",
              "    <tr>\n",
              "      <th>max</th>\n",
              "      <td>2014.0</td>\n",
              "      <td>8.400000</td>\n",
              "      <td>12.000000</td>\n",
              "      <td>30.200000</td>\n",
              "      <td>20.500000</td>\n",
              "      <td>25.800000</td>\n",
              "      <td>60.000000</td>\n",
              "      <td>488.000000</td>\n",
              "    </tr>\n",
              "  </tbody>\n",
              "</table>\n",
              "</div>"
            ],
            "text/plain": [
              "       MODELYEAR   ENGINESIZE  ...  FUELCONSUMPTION_COMB_MPG  CO2EMISSIONS\n",
              "count     1067.0  1067.000000  ...               1067.000000   1067.000000\n",
              "mean      2014.0     3.346298  ...                 26.441425    256.228679\n",
              "std          0.0     1.415895  ...                  7.468702     63.372304\n",
              "min       2014.0     1.000000  ...                 11.000000    108.000000\n",
              "25%       2014.0     2.000000  ...                 21.000000    207.000000\n",
              "50%       2014.0     3.400000  ...                 26.000000    251.000000\n",
              "75%       2014.0     4.300000  ...                 31.000000    294.000000\n",
              "max       2014.0     8.400000  ...                 60.000000    488.000000\n",
              "\n",
              "[8 rows x 8 columns]"
            ]
          },
          "metadata": {
            "tags": []
          },
          "execution_count": 4
        }
      ]
    },
    {
      "cell_type": "markdown",
      "metadata": {
        "id": "mdtZdTTYmW7P"
      },
      "source": [
        "**Sub-set Dataframe**: only 1 feature and CO2 emmission\n",
        "\n",
        "Feature: ENGINESIZE\n",
        "\n",
        "Label/predicted: CO2EMISSIONS\n",
        "\n",
        "Features & labels must have the same size!!"
      ]
    },
    {
      "cell_type": "code",
      "metadata": {
        "id": "eoeSoyMUm2WR"
      },
      "source": [
        "feature_motor = df[['ENGINESIZE']]\n",
        "label_co2 =  df[['CO2EMISSIONS']]\n",
        "\n"
      ],
      "execution_count": null,
      "outputs": []
    },
    {
      "cell_type": "code",
      "metadata": {
        "id": "NFBbDn-Bm3er",
        "outputId": "659592e9-11f2-459f-8277-200a9182fcd0",
        "colab": {
          "base_uri": "https://localhost:8080/",
          "height": 283
        }
      },
      "source": [
        "feature_motor.describe()\n",
        "label_co2.describe()"
      ],
      "execution_count": null,
      "outputs": [
        {
          "output_type": "execute_result",
          "data": {
            "text/html": [
              "<div>\n",
              "<style scoped>\n",
              "    .dataframe tbody tr th:only-of-type {\n",
              "        vertical-align: middle;\n",
              "    }\n",
              "\n",
              "    .dataframe tbody tr th {\n",
              "        vertical-align: top;\n",
              "    }\n",
              "\n",
              "    .dataframe thead th {\n",
              "        text-align: right;\n",
              "    }\n",
              "</style>\n",
              "<table border=\"1\" class=\"dataframe\">\n",
              "  <thead>\n",
              "    <tr style=\"text-align: right;\">\n",
              "      <th></th>\n",
              "      <th>ENGINESIZE</th>\n",
              "    </tr>\n",
              "  </thead>\n",
              "  <tbody>\n",
              "    <tr>\n",
              "      <th>count</th>\n",
              "      <td>1067.000000</td>\n",
              "    </tr>\n",
              "    <tr>\n",
              "      <th>mean</th>\n",
              "      <td>3.346298</td>\n",
              "    </tr>\n",
              "    <tr>\n",
              "      <th>std</th>\n",
              "      <td>1.415895</td>\n",
              "    </tr>\n",
              "    <tr>\n",
              "      <th>min</th>\n",
              "      <td>1.000000</td>\n",
              "    </tr>\n",
              "    <tr>\n",
              "      <th>25%</th>\n",
              "      <td>2.000000</td>\n",
              "    </tr>\n",
              "    <tr>\n",
              "      <th>50%</th>\n",
              "      <td>3.400000</td>\n",
              "    </tr>\n",
              "    <tr>\n",
              "      <th>75%</th>\n",
              "      <td>4.300000</td>\n",
              "    </tr>\n",
              "    <tr>\n",
              "      <th>max</th>\n",
              "      <td>8.400000</td>\n",
              "    </tr>\n",
              "  </tbody>\n",
              "</table>\n",
              "</div>"
            ],
            "text/plain": [
              "        ENGINESIZE\n",
              "count  1067.000000\n",
              "mean      3.346298\n",
              "std       1.415895\n",
              "min       1.000000\n",
              "25%       2.000000\n",
              "50%       3.400000\n",
              "75%       4.300000\n",
              "max       8.400000"
            ]
          },
          "metadata": {
            "tags": []
          },
          "execution_count": 9
        }
      ]
    },
    {
      "cell_type": "markdown",
      "metadata": {
        "id": "hecIIBbZnepO"
      },
      "source": [
        "# Applying machine learning methods!!\n",
        "\n",
        "1st: split the dataset in training & test using sklearn library"
      ]
    },
    {
      "cell_type": "code",
      "metadata": {
        "id": "DSTwuPHhnnxm",
        "outputId": "1573d4c3-3dbe-4855-b016-d03d762b3b5f",
        "colab": {
          "base_uri": "https://localhost:8080/"
        }
      },
      "source": [
        "feature_motor_training, feature_motor_test, label_co2_training, label_co2_test = train_test_split(feature_motor, label_co2, test_size=0.2, random_state = 42)\n",
        "print('Checking the type of the the training dataset:', type(feature_motor_training))"
      ],
      "execution_count": null,
      "outputs": [
        {
          "output_type": "stream",
          "text": [
            "Checking the type of the the training dataset: <class 'pandas.core.frame.DataFrame'>\n"
          ],
          "name": "stdout"
        }
      ]
    },
    {
      "cell_type": "markdown",
      "metadata": {
        "id": "AxuyNxgzo9z-"
      },
      "source": [
        "Checking the data correlation between engine feature and CO2 emmision."
      ]
    },
    {
      "cell_type": "code",
      "metadata": {
        "id": "3QkPrnSMo4qR",
        "outputId": "0aee90b2-d754-46a5-882a-fc966d09cc65",
        "colab": {
          "base_uri": "https://localhost:8080/",
          "height": 280
        }
      },
      "source": [
        "plt.scatter(feature_motor_training, label_co2_training, color='blue')\n",
        "plt.xlabel('Engine Size ')\n",
        "plt.ylabel('CO2 Emissions')\n",
        "plt.show()"
      ],
      "execution_count": null,
      "outputs": [
        {
          "output_type": "display_data",
          "data": {
            "image/png": "[encoded data removed]",
            "text/plain": [
              "<Figure size 432x288 with 1 Axes>"
            ]
          },
          "metadata": {
            "tags": [],
            "needs_background": "light"
          }
        }
      ]
    },
    {
      "cell_type": "markdown",
      "metadata": {
        "id": "xOVZrCg_pj_X"
      },
      "source": [
        "2nd: Let's now training the **Linear Regression** model"
      ]
    },
    {
      "cell_type": "code",
      "metadata": {
        "id": "KpwlP-j9pqLO",
        "outputId": "dab6973f-d6a2-4b2b-97b5-195217bb9269",
        "colab": {
          "base_uri": "https://localhost:8080/"
        }
      },
      "source": [
        "# Create linear regression object\n",
        "lr = linear_model.LinearRegression()\n",
        "\n",
        "# fiftting/training the model using the training set\n",
        "lr.fit(feature_motor_training, label_co2_training)"
      ],
      "execution_count": null,
      "outputs": [
        {
          "output_type": "execute_result",
          "data": {
            "text/plain": [
              "LinearRegression(copy_X=True, fit_intercept=True, n_jobs=None, normalize=False)"
            ]
          },
          "metadata": {
            "tags": []
          },
          "execution_count": 16
        }
      ]
    },
    {
      "cell_type": "markdown",
      "metadata": {
        "id": "l1phGq9xqmS1"
      },
      "source": [
        "# Model already fitted/trained and ready to be used!!"
      ]
    },
    {
      "cell_type": "code",
      "metadata": {
        "id": "4TIuFfEjqqB9",
        "outputId": "3fda8b9e-14be-477c-9b80-27508242fa6d",
        "colab": {
          "base_uri": "https://localhost:8080/"
        }
      },
      "source": [
        "# Showing te calculated values: intercept and angular coeficient\n",
        "\n",
        "print('(A) Intercept:', lr.intercept_)\n",
        "print('(B) Angular Coeficient:', lr.coef_)"
      ],
      "execution_count": null,
      "outputs": [
        {
          "output_type": "stream",
          "text": [
            "(A) Intercept: [126.28970217]\n",
            "(B) Angular Coeficient: [[38.99297872]]\n"
          ],
          "name": "stdout"
        }
      ]
    },
    {
      "cell_type": "markdown",
      "metadata": {
        "id": "RhuaqzlrF2ma"
      },
      "source": [
        ""
      ]
    },
    {
      "cell_type": "markdown",
      "metadata": {
        "id": "A42Dfk_IGA63"
      },
      "source": [
        "Intercetp & Angular Coeficient calculated are related with the training data plotted above!!"
      ]
    },
    {
      "cell_type": "markdown",
      "metadata": {
        "id": "AA7tRradrVDy"
      },
      "source": [
        "# Showing the fitted line for the linear model against the training dataset"
      ]
    },
    {
      "cell_type": "code",
      "metadata": {
        "id": "ipoYmMwJrfx0",
        "outputId": "5e3cfbb2-0d0c-49ca-bacb-c7a4fc052803",
        "colab": {
          "base_uri": "https://localhost:8080/",
          "height": 280
        }
      },
      "source": [
        "plt.scatter(feature_motor_training, label_co2_training, color='blue')\n",
        "plt.plot(feature_motor_training, lr.coef_[0][0]*feature_motor_training + lr.intercept_[0], '-r')\n",
        "plt.ylabel('CO2 Emmision')\n",
        "plt.xlabel('Engine Size')\n",
        "plt.show()"
      ],
      "execution_count": null,
      "outputs": [
        {
          "output_type": "display_data",
          "data": {
            "image/png": "[encoded data removed]",
            "text/plain": [
              "<Figure size 432x288 with 1 Axes>"
            ]
          },
          "metadata": {
            "tags": [],
            "needs_background": "light"
          }
        }
      ]
    },
    {
      "cell_type": "markdown",
      "metadata": {
        "id": "NMiGEaistF-f"
      },
      "source": [
        "# Making predictions using the testing set\n",
        "Linear Model against the testing set"
      ]
    },
    {
      "cell_type": "code",
      "metadata": {
        "id": "v3B2gJSRtQtU"
      },
      "source": [
        "co2_pred = lr.predict(feature_motor_test)"
      ],
      "execution_count": null,
      "outputs": []
    },
    {
      "cell_type": "markdown",
      "metadata": {
        "id": "VMg5a_BwtgzG"
      },
      "source": [
        "# Showing the fitted line for the linear model against the test dataset"
      ]
    },
    {
      "cell_type": "code",
      "metadata": {
        "id": "zDc9f7ZXtkto",
        "outputId": "b1a94aa4-1145-459f-bf5e-5678cc8c9937",
        "colab": {
          "base_uri": "https://localhost:8080/",
          "height": 279
        }
      },
      "source": [
        "plt.scatter(feature_motor_test, label_co2_test, color='blue')\n",
        "plt.plot(feature_motor_test, lr.coef_[0][0]*feature_motor_test + lr.intercept_[0], '-r')\n",
        "plt.ylabel('CO2 Emmision')\n",
        "plt.xlabel('Engine Size')\n",
        "plt.show()\n"
      ],
      "execution_count": null,
      "outputs": [
        {
          "output_type": "display_data",
          "data": {
            "image/png": "[encoded data removed]",
            "text/plain": [
              "<Figure size 432x288 with 1 Axes>"
            ]
          },
          "metadata": {
            "tags": [],
            "needs_background": "light"
          }
        }
      ]
    },
    {
      "cell_type": "markdown",
      "metadata": {
        "id": "2x_yZ9HbukOf"
      },
      "source": [
        "# Model Metrics\n",
        "\n",
        "- **MSE**: mean squared error\n",
        "- **MAE**: mean absolute error"
      ]
    },
    {
      "cell_type": "code",
      "metadata": {
        "id": "3cFfljEFuo2E",
        "outputId": "bffe6361-0397-4d27-cd69-eee1752b46ed",
        "colab": {
          "base_uri": "https://localhost:8080/"
        }
      },
      "source": [
        "print('SSE: %2.f' % np.sum((co2_pred - label_co2_test)**2))\n",
        "print('MSE: %2.f' % mean_squared_error(label_co2_test, co2_pred))\n",
        "print('MAE: %2.f' % mean_absolute_error(label_co2_test, co2_pred))\n",
        "print('RMSE: %2.f' % sqrt(mean_squared_error(label_co2_test, co2_pred)))\n",
        "print('R2 Score: %2.f' % r2_score(co2_pred, label_co2_test))"
      ],
      "execution_count": null,
      "outputs": [
        {
          "output_type": "stream",
          "text": [
            "SSE: 210991\n",
            "MSE: 986\n",
            "MAE: 24\n",
            "RMSE: 31\n",
            "R2 Score:  1\n"
          ],
          "name": "stdout"
        }
      ]
    },
    {
      "cell_type": "markdown",
      "metadata": {
        "id": "yQlKnDm6XTgM"
      },
      "source": [
        "**Reference**: https://github.com/diogocortiz/Crash-Course-IA/blob/master/RegressaoLinear/CrashCourse_Regressão_Linear.ipynb"
      ]
    },
    {
      "cell_type": "code",
      "metadata": {
        "id": "IlyCThdJXYts"
      },
      "source": [
        ""
      ],
      "execution_count": null,
      "outputs": []
    }
  ]
}