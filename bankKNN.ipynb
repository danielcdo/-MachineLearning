{
  "nbformat": 4,
  "nbformat_minor": 0,
  "metadata": {
    "colab": {
      "name": "bankKNN.ipynb",
      "provenance": [],
      "collapsed_sections": [],
      "authorship_tag": "ABX9TyOTUrhXOMFxWIyujP404Iuq",
      "include_colab_link": true
    },
    "kernelspec": {
      "name": "python3",
      "display_name": "Python 3"
    },
    "language_info": {
      "name": "python"
    }
  },
  "cells": [
    {
      "cell_type": "markdown",
      "metadata": {
        "id": "view-in-github",
        "colab_type": "text"
      },
      "source": [
        "<a href=\"https://colab.research.google.com/github/danielcdo/-MachineLearning/blob/main/bankKNN.ipynb\" target=\"_parent\"><img src=\"https://colab.research.google.com/assets/colab-badge.svg\" alt=\"Open In Colab\"/></a>"
      ]
    },
    {
      "cell_type": "markdown",
      "metadata": {
        "id": "NG-3FVbmTePE"
      },
      "source": [
        "## K Nearest Neighbors Learning Model\n",
        "\n",
        "**KNN**: This statistical learning model can be described as a *lazy learning model*. Not because of its simplicity, but in the way of how it learns and fits the feature training data. The majority vote approach is implemented in the KNN model in which the predict value is selected by the proximity values around the **y** values to be predicted. \n",
        "\n",
        "Different of others learning methods such as linear logistic regression and SVM in which a discriminative function is proposed by the model, KNN classifier tries to memorize the training features space. KNN is labelled as a **non-parametric** method, then it doesn't contain a discrinative function. As a non-parametric method it is can be a very good model for a non-linear feature space where the decision boundary cannot be demonstrated as linear function. \n",
        "\n",
        "Note that despite its simplicity approach KNN can be a very good classifier method and it can have a significant low error rate similiar to a Bayes' classifer ( the gold method).\n",
        "\n",
        "**Objective**: The data is related with direct marketing campaigns (phone calls) of a Portuguese banking institution. The classification goal is to predict if the client will subscribe a term deposit (variable y).\n",
        "\n",
        "**Dataset**:Bank Marketing Data Set\n",
        "\n",
        "**Source**: https://archive.ics.uci.edu/ml/datasets/Bank+Marketing#\n",
        "\n",
        "\n"
      ]
    },
    {
      "cell_type": "code",
      "metadata": {
        "id": "70N-KmrXTrCZ"
      },
      "source": [
        "import numpy as np\n",
        "import pandas as pd\n",
        "from pandas.plotting import scatter_matrix\n",
        "\n",
        "from matplotlib import pyplot as plt\n",
        "import seaborn as sns\n",
        "\n",
        "from sklearn.preprocessing import StandardScaler, OneHotEncoder\n",
        "from sklearn.impute import SimpleImputer\n",
        "from sklearn.pipeline import Pipeline\n",
        "from sklearn.compose import ColumnTransformer\n",
        "from sklearn.model_selection import train_test_split\n",
        "from sklearn.neighbors import KNeighborsClassifier\n",
        "from sklearn.metrics import confusion_matrix, classification_report\n",
        "\n",
        "%matplotlib inline"
      ],
      "execution_count": 52,
      "outputs": []
    },
    {
      "cell_type": "markdown",
      "metadata": {
        "id": "gz5sKyNWU0AN"
      },
      "source": [
        "Function to load  the dataset into Pandas daframe stored at my GitHub repository"
      ]
    },
    {
      "cell_type": "code",
      "metadata": {
        "colab": {
          "base_uri": "https://localhost:8080/"
        },
        "id": "lRXjiUv-Uh7S",
        "outputId": "070b3916-d9f6-4424-d9ae-7ca0e6224ae2"
      },
      "source": [
        "def load_data(dataset_url, filename):\n",
        "  ''' Replace github.com by raw.githubusercontent.com. Provide the URL for the raw dataset. Remove /tree/ from original URL.'''\n",
        "  return pd.read_csv(dataset_url + filename, sep=';')\n",
        "print('Defined load_data function.')"
      ],
      "execution_count": 2,
      "outputs": [
        {
          "output_type": "stream",
          "text": [
            "Defined load_data function.\n"
          ],
          "name": "stdout"
        }
      ]
    },
    {
      "cell_type": "markdown",
      "metadata": {
        "id": "ZMZVeXLAVRHR"
      },
      "source": [
        "## Load dataset\n",
        "\n",
        "Bank marketing dataset stored in GitHub. Please pass the raw URL repository\n"
      ]
    },
    {
      "cell_type": "code",
      "metadata": {
        "id": "zT9YFHZYVMNY"
      },
      "source": [
        "# Replace github.com by raw.githubusercontent.com\n",
        "# Remove /tree/ from original URL.\n",
        "# provide the URL for the raw dataset\n",
        "# original URL: https://github.com/danielcdo/-MachineLearning/tree/main/datasets/bank/\n",
        "\n",
        "DOWNLOAD_ROOT = 'https://raw.githubusercontent.com/danielcdo/-MachineLearning/main/datasets/bank/'"
      ],
      "execution_count": 3,
      "outputs": []
    },
    {
      "cell_type": "code",
      "metadata": {
        "id": "h_Iw8ZdWWW4K"
      },
      "source": [
        "# bank-additional-full.csv\n",
        "# call load_data function\n",
        "data = load_data(dataset_url=DOWNLOAD_ROOT, filename='bank-additional-full.csv')"
      ],
      "execution_count": 4,
      "outputs": []
    },
    {
      "cell_type": "markdown",
      "metadata": {
        "id": "2HWr76GEY56E"
      },
      "source": [
        "# Exploratory Data Analysis - EDA\n",
        "\n",
        "Take a peak at the data!"
      ]
    },
    {
      "cell_type": "code",
      "metadata": {
        "colab": {
          "base_uri": "https://localhost:8080/",
          "height": 197
        },
        "id": "JD-pFlM2Wq3e",
        "outputId": "e158518f-6827-412d-a8d1-9d2a4da084ec"
      },
      "source": [
        "data.head(5)"
      ],
      "execution_count": 5,
      "outputs": [
        {
          "output_type": "execute_result",
          "data": {
            "text/html": [
              "<div>\n",
              "<style scoped>\n",
              "    .dataframe tbody tr th:only-of-type {\n",
              "        vertical-align: middle;\n",
              "    }\n",
              "\n",
              "    .dataframe tbody tr th {\n",
              "        vertical-align: top;\n",
              "    }\n",
              "\n",
              "    .dataframe thead th {\n",
              "        text-align: right;\n",
              "    }\n",
              "</style>\n",
              "<table border=\"1\" class=\"dataframe\">\n",
              "  <thead>\n",
              "    <tr style=\"text-align: right;\">\n",
              "      <th></th>\n",
              "      <th>age</th>\n",
              "      <th>job</th>\n",
              "      <th>marital</th>\n",
              "      <th>education</th>\n",
              "      <th>default</th>\n",
              "      <th>housing</th>\n",
              "      <th>loan</th>\n",
              "      <th>contact</th>\n",
              "      <th>month</th>\n",
              "      <th>day_of_week</th>\n",
              "      <th>duration</th>\n",
              "      <th>campaign</th>\n",
              "      <th>pdays</th>\n",
              "      <th>previous</th>\n",
              "      <th>poutcome</th>\n",
              "      <th>emp.var.rate</th>\n",
              "      <th>cons.price.idx</th>\n",
              "      <th>cons.conf.idx</th>\n",
              "      <th>euribor3m</th>\n",
              "      <th>nr.employed</th>\n",
              "      <th>y</th>\n",
              "    </tr>\n",
              "  </thead>\n",
              "  <tbody>\n",
              "    <tr>\n",
              "      <th>0</th>\n",
              "      <td>56</td>\n",
              "      <td>housemaid</td>\n",
              "      <td>married</td>\n",
              "      <td>basic.4y</td>\n",
              "      <td>no</td>\n",
              "      <td>no</td>\n",
              "      <td>no</td>\n",
              "      <td>telephone</td>\n",
              "      <td>may</td>\n",
              "      <td>mon</td>\n",
              "      <td>261</td>\n",
              "      <td>1</td>\n",
              "      <td>999</td>\n",
              "      <td>0</td>\n",
              "      <td>nonexistent</td>\n",
              "      <td>1.1</td>\n",
              "      <td>93.994</td>\n",
              "      <td>-36.4</td>\n",
              "      <td>4.857</td>\n",
              "      <td>5191.0</td>\n",
              "      <td>no</td>\n",
              "    </tr>\n",
              "    <tr>\n",
              "      <th>1</th>\n",
              "      <td>57</td>\n",
              "      <td>services</td>\n",
              "      <td>married</td>\n",
              "      <td>high.school</td>\n",
              "      <td>unknown</td>\n",
              "      <td>no</td>\n",
              "      <td>no</td>\n",
              "      <td>telephone</td>\n",
              "      <td>may</td>\n",
              "      <td>mon</td>\n",
              "      <td>149</td>\n",
              "      <td>1</td>\n",
              "      <td>999</td>\n",
              "      <td>0</td>\n",
              "      <td>nonexistent</td>\n",
              "      <td>1.1</td>\n",
              "      <td>93.994</td>\n",
              "      <td>-36.4</td>\n",
              "      <td>4.857</td>\n",
              "      <td>5191.0</td>\n",
              "      <td>no</td>\n",
              "    </tr>\n",
              "    <tr>\n",
              "      <th>2</th>\n",
              "      <td>37</td>\n",
              "      <td>services</td>\n",
              "      <td>married</td>\n",
              "      <td>high.school</td>\n",
              "      <td>no</td>\n",
              "      <td>yes</td>\n",
              "      <td>no</td>\n",
              "      <td>telephone</td>\n",
              "      <td>may</td>\n",
              "      <td>mon</td>\n",
              "      <td>226</td>\n",
              "      <td>1</td>\n",
              "      <td>999</td>\n",
              "      <td>0</td>\n",
              "      <td>nonexistent</td>\n",
              "      <td>1.1</td>\n",
              "      <td>93.994</td>\n",
              "      <td>-36.4</td>\n",
              "      <td>4.857</td>\n",
              "      <td>5191.0</td>\n",
              "      <td>no</td>\n",
              "    </tr>\n",
              "    <tr>\n",
              "      <th>3</th>\n",
              "      <td>40</td>\n",
              "      <td>admin.</td>\n",
              "      <td>married</td>\n",
              "      <td>basic.6y</td>\n",
              "      <td>no</td>\n",
              "      <td>no</td>\n",
              "      <td>no</td>\n",
              "      <td>telephone</td>\n",
              "      <td>may</td>\n",
              "      <td>mon</td>\n",
              "      <td>151</td>\n",
              "      <td>1</td>\n",
              "      <td>999</td>\n",
              "      <td>0</td>\n",
              "      <td>nonexistent</td>\n",
              "      <td>1.1</td>\n",
              "      <td>93.994</td>\n",
              "      <td>-36.4</td>\n",
              "      <td>4.857</td>\n",
              "      <td>5191.0</td>\n",
              "      <td>no</td>\n",
              "    </tr>\n",
              "    <tr>\n",
              "      <th>4</th>\n",
              "      <td>56</td>\n",
              "      <td>services</td>\n",
              "      <td>married</td>\n",
              "      <td>high.school</td>\n",
              "      <td>no</td>\n",
              "      <td>no</td>\n",
              "      <td>yes</td>\n",
              "      <td>telephone</td>\n",
              "      <td>may</td>\n",
              "      <td>mon</td>\n",
              "      <td>307</td>\n",
              "      <td>1</td>\n",
              "      <td>999</td>\n",
              "      <td>0</td>\n",
              "      <td>nonexistent</td>\n",
              "      <td>1.1</td>\n",
              "      <td>93.994</td>\n",
              "      <td>-36.4</td>\n",
              "      <td>4.857</td>\n",
              "      <td>5191.0</td>\n",
              "      <td>no</td>\n",
              "    </tr>\n",
              "  </tbody>\n",
              "</table>\n",
              "</div>"
            ],
            "text/plain": [
              "   age        job  marital  ... euribor3m nr.employed   y\n",
              "0   56  housemaid  married  ...     4.857      5191.0  no\n",
              "1   57   services  married  ...     4.857      5191.0  no\n",
              "2   37   services  married  ...     4.857      5191.0  no\n",
              "3   40     admin.  married  ...     4.857      5191.0  no\n",
              "4   56   services  married  ...     4.857      5191.0  no\n",
              "\n",
              "[5 rows x 21 columns]"
            ]
          },
          "metadata": {
            "tags": []
          },
          "execution_count": 5
        }
      ]
    },
    {
      "cell_type": "code",
      "metadata": {
        "colab": {
          "base_uri": "https://localhost:8080/",
          "height": 287
        },
        "id": "LW_Czrc3Xe86",
        "outputId": "2a01a939-22ae-4a04-ff19-938e889a33a6"
      },
      "source": [
        "# check statistical parameters available in the dataset\n",
        "data.describe()"
      ],
      "execution_count": null,
      "outputs": [
        {
          "output_type": "execute_result",
          "data": {
            "text/html": [
              "<div>\n",
              "<style scoped>\n",
              "    .dataframe tbody tr th:only-of-type {\n",
              "        vertical-align: middle;\n",
              "    }\n",
              "\n",
              "    .dataframe tbody tr th {\n",
              "        vertical-align: top;\n",
              "    }\n",
              "\n",
              "    .dataframe thead th {\n",
              "        text-align: right;\n",
              "    }\n",
              "</style>\n",
              "<table border=\"1\" class=\"dataframe\">\n",
              "  <thead>\n",
              "    <tr style=\"text-align: right;\">\n",
              "      <th></th>\n",
              "      <th>age</th>\n",
              "      <th>duration</th>\n",
              "      <th>campaign</th>\n",
              "      <th>pdays</th>\n",
              "      <th>previous</th>\n",
              "      <th>emp.var.rate</th>\n",
              "      <th>cons.price.idx</th>\n",
              "      <th>cons.conf.idx</th>\n",
              "      <th>euribor3m</th>\n",
              "      <th>nr.employed</th>\n",
              "    </tr>\n",
              "  </thead>\n",
              "  <tbody>\n",
              "    <tr>\n",
              "      <th>count</th>\n",
              "      <td>41188.00000</td>\n",
              "      <td>41188.000000</td>\n",
              "      <td>41188.000000</td>\n",
              "      <td>41188.000000</td>\n",
              "      <td>41188.000000</td>\n",
              "      <td>41188.000000</td>\n",
              "      <td>41188.000000</td>\n",
              "      <td>41188.000000</td>\n",
              "      <td>41188.000000</td>\n",
              "      <td>41188.000000</td>\n",
              "    </tr>\n",
              "    <tr>\n",
              "      <th>mean</th>\n",
              "      <td>40.02406</td>\n",
              "      <td>258.285010</td>\n",
              "      <td>2.567593</td>\n",
              "      <td>962.475454</td>\n",
              "      <td>0.172963</td>\n",
              "      <td>0.081886</td>\n",
              "      <td>93.575664</td>\n",
              "      <td>-40.502600</td>\n",
              "      <td>3.621291</td>\n",
              "      <td>5167.035911</td>\n",
              "    </tr>\n",
              "    <tr>\n",
              "      <th>std</th>\n",
              "      <td>10.42125</td>\n",
              "      <td>259.279249</td>\n",
              "      <td>2.770014</td>\n",
              "      <td>186.910907</td>\n",
              "      <td>0.494901</td>\n",
              "      <td>1.570960</td>\n",
              "      <td>0.578840</td>\n",
              "      <td>4.628198</td>\n",
              "      <td>1.734447</td>\n",
              "      <td>72.251528</td>\n",
              "    </tr>\n",
              "    <tr>\n",
              "      <th>min</th>\n",
              "      <td>17.00000</td>\n",
              "      <td>0.000000</td>\n",
              "      <td>1.000000</td>\n",
              "      <td>0.000000</td>\n",
              "      <td>0.000000</td>\n",
              "      <td>-3.400000</td>\n",
              "      <td>92.201000</td>\n",
              "      <td>-50.800000</td>\n",
              "      <td>0.634000</td>\n",
              "      <td>4963.600000</td>\n",
              "    </tr>\n",
              "    <tr>\n",
              "      <th>25%</th>\n",
              "      <td>32.00000</td>\n",
              "      <td>102.000000</td>\n",
              "      <td>1.000000</td>\n",
              "      <td>999.000000</td>\n",
              "      <td>0.000000</td>\n",
              "      <td>-1.800000</td>\n",
              "      <td>93.075000</td>\n",
              "      <td>-42.700000</td>\n",
              "      <td>1.344000</td>\n",
              "      <td>5099.100000</td>\n",
              "    </tr>\n",
              "    <tr>\n",
              "      <th>50%</th>\n",
              "      <td>38.00000</td>\n",
              "      <td>180.000000</td>\n",
              "      <td>2.000000</td>\n",
              "      <td>999.000000</td>\n",
              "      <td>0.000000</td>\n",
              "      <td>1.100000</td>\n",
              "      <td>93.749000</td>\n",
              "      <td>-41.800000</td>\n",
              "      <td>4.857000</td>\n",
              "      <td>5191.000000</td>\n",
              "    </tr>\n",
              "    <tr>\n",
              "      <th>75%</th>\n",
              "      <td>47.00000</td>\n",
              "      <td>319.000000</td>\n",
              "      <td>3.000000</td>\n",
              "      <td>999.000000</td>\n",
              "      <td>0.000000</td>\n",
              "      <td>1.400000</td>\n",
              "      <td>93.994000</td>\n",
              "      <td>-36.400000</td>\n",
              "      <td>4.961000</td>\n",
              "      <td>5228.100000</td>\n",
              "    </tr>\n",
              "    <tr>\n",
              "      <th>max</th>\n",
              "      <td>98.00000</td>\n",
              "      <td>4918.000000</td>\n",
              "      <td>56.000000</td>\n",
              "      <td>999.000000</td>\n",
              "      <td>7.000000</td>\n",
              "      <td>1.400000</td>\n",
              "      <td>94.767000</td>\n",
              "      <td>-26.900000</td>\n",
              "      <td>5.045000</td>\n",
              "      <td>5228.100000</td>\n",
              "    </tr>\n",
              "  </tbody>\n",
              "</table>\n",
              "</div>"
            ],
            "text/plain": [
              "               age      duration  ...     euribor3m   nr.employed\n",
              "count  41188.00000  41188.000000  ...  41188.000000  41188.000000\n",
              "mean      40.02406    258.285010  ...      3.621291   5167.035911\n",
              "std       10.42125    259.279249  ...      1.734447     72.251528\n",
              "min       17.00000      0.000000  ...      0.634000   4963.600000\n",
              "25%       32.00000    102.000000  ...      1.344000   5099.100000\n",
              "50%       38.00000    180.000000  ...      4.857000   5191.000000\n",
              "75%       47.00000    319.000000  ...      4.961000   5228.100000\n",
              "max       98.00000   4918.000000  ...      5.045000   5228.100000\n",
              "\n",
              "[8 rows x 10 columns]"
            ]
          },
          "metadata": {
            "tags": []
          },
          "execution_count": 22
        }
      ]
    },
    {
      "cell_type": "code",
      "metadata": {
        "colab": {
          "base_uri": "https://localhost:8080/"
        },
        "id": "5FUv-bu1ZOFt",
        "outputId": "fe50c5f0-df5f-4a73-a104-95e4a2548188"
      },
      "source": [
        "data.info()"
      ],
      "execution_count": null,
      "outputs": [
        {
          "output_type": "stream",
          "text": [
            "<class 'pandas.core.frame.DataFrame'>\n",
            "RangeIndex: 41188 entries, 0 to 41187\n",
            "Data columns (total 21 columns):\n",
            " #   Column          Non-Null Count  Dtype  \n",
            "---  ------          --------------  -----  \n",
            " 0   age             41188 non-null  int64  \n",
            " 1   job             41188 non-null  object \n",
            " 2   marital         41188 non-null  object \n",
            " 3   education       41188 non-null  object \n",
            " 4   default         41188 non-null  object \n",
            " 5   housing         41188 non-null  object \n",
            " 6   loan            41188 non-null  object \n",
            " 7   contact         41188 non-null  object \n",
            " 8   month           41188 non-null  object \n",
            " 9   day_of_week     41188 non-null  object \n",
            " 10  duration        41188 non-null  int64  \n",
            " 11  campaign        41188 non-null  int64  \n",
            " 12  pdays           41188 non-null  int64  \n",
            " 13  previous        41188 non-null  int64  \n",
            " 14  poutcome        41188 non-null  object \n",
            " 15  emp.var.rate    41188 non-null  float64\n",
            " 16  cons.price.idx  41188 non-null  float64\n",
            " 17  cons.conf.idx   41188 non-null  float64\n",
            " 18  euribor3m       41188 non-null  float64\n",
            " 19  nr.employed     41188 non-null  float64\n",
            " 20  y               41188 non-null  object \n",
            "dtypes: float64(5), int64(5), object(11)\n",
            "memory usage: 6.6+ MB\n"
          ],
          "name": "stdout"
        }
      ]
    },
    {
      "cell_type": "code",
      "metadata": {
        "colab": {
          "base_uri": "https://localhost:8080/"
        },
        "id": "JkQmXzLUZfz1",
        "outputId": "5924f3c0-0222-4206-f71d-8faf6a4d3064"
      },
      "source": [
        "# check - count nulls\n",
        "data.isnull().sum()\n",
        "# not NaN avaiable...it's a such nice dataset! So clean!!!"
      ],
      "execution_count": null,
      "outputs": [
        {
          "output_type": "execute_result",
          "data": {
            "text/plain": [
              "age               0\n",
              "job               0\n",
              "marital           0\n",
              "education         0\n",
              "default           0\n",
              "housing           0\n",
              "loan              0\n",
              "contact           0\n",
              "month             0\n",
              "day_of_week       0\n",
              "duration          0\n",
              "campaign          0\n",
              "pdays             0\n",
              "previous          0\n",
              "poutcome          0\n",
              "emp.var.rate      0\n",
              "cons.price.idx    0\n",
              "cons.conf.idx     0\n",
              "euribor3m         0\n",
              "nr.employed       0\n",
              "y                 0\n",
              "dtype: int64"
            ]
          },
          "metadata": {
            "tags": []
          },
          "execution_count": 32
        }
      ]
    },
    {
      "cell_type": "code",
      "metadata": {
        "colab": {
          "base_uri": "https://localhost:8080/"
        },
        "id": "EWlKf-r9Zra1",
        "outputId": "932effa7-ee5f-450e-cbcf-7095d5fc4352"
      },
      "source": [
        "print(data.dtypes)"
      ],
      "execution_count": null,
      "outputs": [
        {
          "output_type": "stream",
          "text": [
            "age                 int64\n",
            "job                object\n",
            "marital            object\n",
            "education          object\n",
            "default            object\n",
            "housing            object\n",
            "loan               object\n",
            "contact            object\n",
            "month              object\n",
            "day_of_week        object\n",
            "duration            int64\n",
            "campaign            int64\n",
            "pdays               int64\n",
            "previous            int64\n",
            "poutcome           object\n",
            "emp.var.rate      float64\n",
            "cons.price.idx    float64\n",
            "cons.conf.idx     float64\n",
            "euribor3m         float64\n",
            "nr.employed       float64\n",
            "y                  object\n",
            "dtype: object\n"
          ],
          "name": "stdout"
        }
      ]
    },
    {
      "cell_type": "code",
      "metadata": {
        "colab": {
          "base_uri": "https://localhost:8080/",
          "height": 878
        },
        "id": "HVJtKJIqaQC9",
        "outputId": "058e0e69-7fb0-4a1b-deca-4700649c07eb"
      },
      "source": [
        "# call hist method\n",
        "data.hist(bins=50, figsize=(20,15));"
      ],
      "execution_count": null,
      "outputs": [
        {
          "output_type": "display_data",
          "data": {
            "image/png": "[encoded data removed]",
            "text/plain": [
              "<Figure size 1440x1080 with 12 Axes>"
            ]
          },
          "metadata": {
            "tags": [],
            "needs_background": "light"
          }
        }
      ]
    },
    {
      "cell_type": "code",
      "metadata": {
        "colab": {
          "base_uri": "https://localhost:8080/",
          "height": 592
        },
        "id": "L3mXoN2Zao0Q",
        "outputId": "0121c99b-5fbf-4a48-c1a0-5668c93f72f3"
      },
      "source": [
        "data['age'].hist(bins=50, figsize=(15,10));"
      ],
      "execution_count": null,
      "outputs": [
        {
          "output_type": "display_data",
          "data": {
            "image/png": "[encoded data removed]",
            "text/plain": [
              "<Figure size 1080x720 with 1 Axes>"
            ]
          },
          "metadata": {
            "tags": [],
            "needs_background": "light"
          }
        }
      ]
    },
    {
      "cell_type": "markdown",
      "metadata": {
        "id": "-8veX9bTbsuG"
      },
      "source": [
        "# Let's plot some categorical features \n",
        "\n",
        "**NOT a good IDEA** to check all the dataset, a good practice is to put aside the TEST dataset and NOT checking it....avoid any Bias."
      ]
    },
    {
      "cell_type": "code",
      "metadata": {
        "colab": {
          "base_uri": "https://localhost:8080/",
          "height": 618
        },
        "id": "Hyo9mYkRbD-F",
        "outputId": "87fb99e1-007a-405a-bc85-3f6f35f15581"
      },
      "source": [
        "sns.catplot(x='education', y='age', hue='y', kind='box', data=data, height=8.27, aspect=11.7/8.27);"
      ],
      "execution_count": null,
      "outputs": [
        {
          "output_type": "display_data",
          "data": {
            "image/png": "[encoded data removed]",
            "text/plain": [
              "<Figure size 895.65x595.44 with 1 Axes>"
            ]
          },
          "metadata": {
            "tags": [],
            "needs_background": "light"
          }
        }
      ]
    },
    {
      "cell_type": "markdown",
      "metadata": {
        "id": "qW38YF2ueiax"
      },
      "source": [
        "# Check data correlation\n"
      ]
    },
    {
      "cell_type": "code",
      "metadata": {
        "id": "JrzYZ-q6cv0N",
        "colab": {
          "base_uri": "https://localhost:8080/",
          "height": 347
        },
        "outputId": "bb4de99f-a4a7-4e10-a48e-2193da6c3c31"
      },
      "source": [
        "# correlation among every pair of the features using person method.\n",
        "# Pearson method is the standard correlation coefficient available in Pandas.\n",
        "data.corr(method='pearson')"
      ],
      "execution_count": 6,
      "outputs": [
        {
          "output_type": "execute_result",
          "data": {
            "text/html": [
              "<div>\n",
              "<style scoped>\n",
              "    .dataframe tbody tr th:only-of-type {\n",
              "        vertical-align: middle;\n",
              "    }\n",
              "\n",
              "    .dataframe tbody tr th {\n",
              "        vertical-align: top;\n",
              "    }\n",
              "\n",
              "    .dataframe thead th {\n",
              "        text-align: right;\n",
              "    }\n",
              "</style>\n",
              "<table border=\"1\" class=\"dataframe\">\n",
              "  <thead>\n",
              "    <tr style=\"text-align: right;\">\n",
              "      <th></th>\n",
              "      <th>age</th>\n",
              "      <th>duration</th>\n",
              "      <th>campaign</th>\n",
              "      <th>pdays</th>\n",
              "      <th>previous</th>\n",
              "      <th>emp.var.rate</th>\n",
              "      <th>cons.price.idx</th>\n",
              "      <th>cons.conf.idx</th>\n",
              "      <th>euribor3m</th>\n",
              "      <th>nr.employed</th>\n",
              "    </tr>\n",
              "  </thead>\n",
              "  <tbody>\n",
              "    <tr>\n",
              "      <th>age</th>\n",
              "      <td>1.000000</td>\n",
              "      <td>-0.000866</td>\n",
              "      <td>0.004594</td>\n",
              "      <td>-0.034369</td>\n",
              "      <td>0.024365</td>\n",
              "      <td>-0.000371</td>\n",
              "      <td>0.000857</td>\n",
              "      <td>0.129372</td>\n",
              "      <td>0.010767</td>\n",
              "      <td>-0.017725</td>\n",
              "    </tr>\n",
              "    <tr>\n",
              "      <th>duration</th>\n",
              "      <td>-0.000866</td>\n",
              "      <td>1.000000</td>\n",
              "      <td>-0.071699</td>\n",
              "      <td>-0.047577</td>\n",
              "      <td>0.020640</td>\n",
              "      <td>-0.027968</td>\n",
              "      <td>0.005312</td>\n",
              "      <td>-0.008173</td>\n",
              "      <td>-0.032897</td>\n",
              "      <td>-0.044703</td>\n",
              "    </tr>\n",
              "    <tr>\n",
              "      <th>campaign</th>\n",
              "      <td>0.004594</td>\n",
              "      <td>-0.071699</td>\n",
              "      <td>1.000000</td>\n",
              "      <td>0.052584</td>\n",
              "      <td>-0.079141</td>\n",
              "      <td>0.150754</td>\n",
              "      <td>0.127836</td>\n",
              "      <td>-0.013733</td>\n",
              "      <td>0.135133</td>\n",
              "      <td>0.144095</td>\n",
              "    </tr>\n",
              "    <tr>\n",
              "      <th>pdays</th>\n",
              "      <td>-0.034369</td>\n",
              "      <td>-0.047577</td>\n",
              "      <td>0.052584</td>\n",
              "      <td>1.000000</td>\n",
              "      <td>-0.587514</td>\n",
              "      <td>0.271004</td>\n",
              "      <td>0.078889</td>\n",
              "      <td>-0.091342</td>\n",
              "      <td>0.296899</td>\n",
              "      <td>0.372605</td>\n",
              "    </tr>\n",
              "    <tr>\n",
              "      <th>previous</th>\n",
              "      <td>0.024365</td>\n",
              "      <td>0.020640</td>\n",
              "      <td>-0.079141</td>\n",
              "      <td>-0.587514</td>\n",
              "      <td>1.000000</td>\n",
              "      <td>-0.420489</td>\n",
              "      <td>-0.203130</td>\n",
              "      <td>-0.050936</td>\n",
              "      <td>-0.454494</td>\n",
              "      <td>-0.501333</td>\n",
              "    </tr>\n",
              "    <tr>\n",
              "      <th>emp.var.rate</th>\n",
              "      <td>-0.000371</td>\n",
              "      <td>-0.027968</td>\n",
              "      <td>0.150754</td>\n",
              "      <td>0.271004</td>\n",
              "      <td>-0.420489</td>\n",
              "      <td>1.000000</td>\n",
              "      <td>0.775334</td>\n",
              "      <td>0.196041</td>\n",
              "      <td>0.972245</td>\n",
              "      <td>0.906970</td>\n",
              "    </tr>\n",
              "    <tr>\n",
              "      <th>cons.price.idx</th>\n",
              "      <td>0.000857</td>\n",
              "      <td>0.005312</td>\n",
              "      <td>0.127836</td>\n",
              "      <td>0.078889</td>\n",
              "      <td>-0.203130</td>\n",
              "      <td>0.775334</td>\n",
              "      <td>1.000000</td>\n",
              "      <td>0.058986</td>\n",
              "      <td>0.688230</td>\n",
              "      <td>0.522034</td>\n",
              "    </tr>\n",
              "    <tr>\n",
              "      <th>cons.conf.idx</th>\n",
              "      <td>0.129372</td>\n",
              "      <td>-0.008173</td>\n",
              "      <td>-0.013733</td>\n",
              "      <td>-0.091342</td>\n",
              "      <td>-0.050936</td>\n",
              "      <td>0.196041</td>\n",
              "      <td>0.058986</td>\n",
              "      <td>1.000000</td>\n",
              "      <td>0.277686</td>\n",
              "      <td>0.100513</td>\n",
              "    </tr>\n",
              "    <tr>\n",
              "      <th>euribor3m</th>\n",
              "      <td>0.010767</td>\n",
              "      <td>-0.032897</td>\n",
              "      <td>0.135133</td>\n",
              "      <td>0.296899</td>\n",
              "      <td>-0.454494</td>\n",
              "      <td>0.972245</td>\n",
              "      <td>0.688230</td>\n",
              "      <td>0.277686</td>\n",
              "      <td>1.000000</td>\n",
              "      <td>0.945154</td>\n",
              "    </tr>\n",
              "    <tr>\n",
              "      <th>nr.employed</th>\n",
              "      <td>-0.017725</td>\n",
              "      <td>-0.044703</td>\n",
              "      <td>0.144095</td>\n",
              "      <td>0.372605</td>\n",
              "      <td>-0.501333</td>\n",
              "      <td>0.906970</td>\n",
              "      <td>0.522034</td>\n",
              "      <td>0.100513</td>\n",
              "      <td>0.945154</td>\n",
              "      <td>1.000000</td>\n",
              "    </tr>\n",
              "  </tbody>\n",
              "</table>\n",
              "</div>"
            ],
            "text/plain": [
              "                     age  duration  ...  euribor3m  nr.employed\n",
              "age             1.000000 -0.000866  ...   0.010767    -0.017725\n",
              "duration       -0.000866  1.000000  ...  -0.032897    -0.044703\n",
              "campaign        0.004594 -0.071699  ...   0.135133     0.144095\n",
              "pdays          -0.034369 -0.047577  ...   0.296899     0.372605\n",
              "previous        0.024365  0.020640  ...  -0.454494    -0.501333\n",
              "emp.var.rate   -0.000371 -0.027968  ...   0.972245     0.906970\n",
              "cons.price.idx  0.000857  0.005312  ...   0.688230     0.522034\n",
              "cons.conf.idx   0.129372 -0.008173  ...   0.277686     0.100513\n",
              "euribor3m       0.010767 -0.032897  ...   1.000000     0.945154\n",
              "nr.employed    -0.017725 -0.044703  ...   0.945154     1.000000\n",
              "\n",
              "[10 rows x 10 columns]"
            ]
          },
          "metadata": {
            "tags": []
          },
          "execution_count": 6
        }
      ]
    },
    {
      "cell_type": "markdown",
      "metadata": {
        "id": "iI1K_StNWpO7"
      },
      "source": [
        "#Preprocessing - Data Cleansing\n",
        "\n",
        "Build a data pipeline to process all the categorical and numerical data to be load in the KNN model. \n",
        "Steps: \n",
        "\n",
        "- Numerical data - SimpleImputer for missing data and StandardScaler\n",
        "- Categorical data - OneHotEncoder\n",
        "\n",
        "Wrap the steps on the ColumnTransformer\n",
        "\n",
        "**IMPORTANT**: The bank dataset doesn't contain any missing however I'm keeping my SimpleImputer code - my standarnd pipeline method. StandardScaler is key for KNN classifier. Once sparse matrix will affect metric distante."
      ]
    },
    {
      "cell_type": "code",
      "metadata": {
        "colab": {
          "base_uri": "https://localhost:8080/"
        },
        "id": "H0hMA1LMeqRX",
        "outputId": "71bc2da4-2e75-4303-8511-5f8959661b1b"
      },
      "source": [
        "# X features - the attribute columns\n",
        "X = data.drop('y', axis=1)\n",
        "\n",
        "# labels/targets colum\n",
        "y = data['y'].copy()\n",
        "\n",
        "print('Features size: ', len(X))\n",
        "print('Labels size: ', len(y))"
      ],
      "execution_count": 10,
      "outputs": [
        {
          "output_type": "stream",
          "text": [
            "Features size:  41188\n",
            "Labels size:  41188\n"
          ],
          "name": "stdout"
        }
      ]
    },
    {
      "cell_type": "markdown",
      "metadata": {
        "id": "hx_hlcGoa3mA"
      },
      "source": [
        "# Data preprocessing pipeline\n",
        "- missing values use SimpleImputer with the median parameter\n",
        "- StandandScaler\n",
        "- OneHotEncode "
      ]
    },
    {
      "cell_type": "code",
      "metadata": {
        "id": "Ie1hSGIHfK6e"
      },
      "source": [
        "# get numerical data\n",
        "num_features = X.select_dtypes(include=[np.number])"
      ],
      "execution_count": 12,
      "outputs": []
    },
    {
      "cell_type": "code",
      "metadata": {
        "colab": {
          "base_uri": "https://localhost:8080/",
          "height": 406
        },
        "id": "rV032EPoggtg",
        "outputId": "5c1ffd26-73ad-4b9d-e669-00517b68dfe7"
      },
      "source": [
        "num_features"
      ],
      "execution_count": 13,
      "outputs": [
        {
          "output_type": "execute_result",
          "data": {
            "text/html": [
              "<div>\n",
              "<style scoped>\n",
              "    .dataframe tbody tr th:only-of-type {\n",
              "        vertical-align: middle;\n",
              "    }\n",
              "\n",
              "    .dataframe tbody tr th {\n",
              "        vertical-align: top;\n",
              "    }\n",
              "\n",
              "    .dataframe thead th {\n",
              "        text-align: right;\n",
              "    }\n",
              "</style>\n",
              "<table border=\"1\" class=\"dataframe\">\n",
              "  <thead>\n",
              "    <tr style=\"text-align: right;\">\n",
              "      <th></th>\n",
              "      <th>age</th>\n",
              "      <th>duration</th>\n",
              "      <th>campaign</th>\n",
              "      <th>pdays</th>\n",
              "      <th>previous</th>\n",
              "      <th>emp.var.rate</th>\n",
              "      <th>cons.price.idx</th>\n",
              "      <th>cons.conf.idx</th>\n",
              "      <th>euribor3m</th>\n",
              "      <th>nr.employed</th>\n",
              "    </tr>\n",
              "  </thead>\n",
              "  <tbody>\n",
              "    <tr>\n",
              "      <th>0</th>\n",
              "      <td>56</td>\n",
              "      <td>261</td>\n",
              "      <td>1</td>\n",
              "      <td>999</td>\n",
              "      <td>0</td>\n",
              "      <td>1.1</td>\n",
              "      <td>93.994</td>\n",
              "      <td>-36.4</td>\n",
              "      <td>4.857</td>\n",
              "      <td>5191.0</td>\n",
              "    </tr>\n",
              "    <tr>\n",
              "      <th>1</th>\n",
              "      <td>57</td>\n",
              "      <td>149</td>\n",
              "      <td>1</td>\n",
              "      <td>999</td>\n",
              "      <td>0</td>\n",
              "      <td>1.1</td>\n",
              "      <td>93.994</td>\n",
              "      <td>-36.4</td>\n",
              "      <td>4.857</td>\n",
              "      <td>5191.0</td>\n",
              "    </tr>\n",
              "    <tr>\n",
              "      <th>2</th>\n",
              "      <td>37</td>\n",
              "      <td>226</td>\n",
              "      <td>1</td>\n",
              "      <td>999</td>\n",
              "      <td>0</td>\n",
              "      <td>1.1</td>\n",
              "      <td>93.994</td>\n",
              "      <td>-36.4</td>\n",
              "      <td>4.857</td>\n",
              "      <td>5191.0</td>\n",
              "    </tr>\n",
              "    <tr>\n",
              "      <th>3</th>\n",
              "      <td>40</td>\n",
              "      <td>151</td>\n",
              "      <td>1</td>\n",
              "      <td>999</td>\n",
              "      <td>0</td>\n",
              "      <td>1.1</td>\n",
              "      <td>93.994</td>\n",
              "      <td>-36.4</td>\n",
              "      <td>4.857</td>\n",
              "      <td>5191.0</td>\n",
              "    </tr>\n",
              "    <tr>\n",
              "      <th>4</th>\n",
              "      <td>56</td>\n",
              "      <td>307</td>\n",
              "      <td>1</td>\n",
              "      <td>999</td>\n",
              "      <td>0</td>\n",
              "      <td>1.1</td>\n",
              "      <td>93.994</td>\n",
              "      <td>-36.4</td>\n",
              "      <td>4.857</td>\n",
              "      <td>5191.0</td>\n",
              "    </tr>\n",
              "    <tr>\n",
              "      <th>...</th>\n",
              "      <td>...</td>\n",
              "      <td>...</td>\n",
              "      <td>...</td>\n",
              "      <td>...</td>\n",
              "      <td>...</td>\n",
              "      <td>...</td>\n",
              "      <td>...</td>\n",
              "      <td>...</td>\n",
              "      <td>...</td>\n",
              "      <td>...</td>\n",
              "    </tr>\n",
              "    <tr>\n",
              "      <th>41183</th>\n",
              "      <td>73</td>\n",
              "      <td>334</td>\n",
              "      <td>1</td>\n",
              "      <td>999</td>\n",
              "      <td>0</td>\n",
              "      <td>-1.1</td>\n",
              "      <td>94.767</td>\n",
              "      <td>-50.8</td>\n",
              "      <td>1.028</td>\n",
              "      <td>4963.6</td>\n",
              "    </tr>\n",
              "    <tr>\n",
              "      <th>41184</th>\n",
              "      <td>46</td>\n",
              "      <td>383</td>\n",
              "      <td>1</td>\n",
              "      <td>999</td>\n",
              "      <td>0</td>\n",
              "      <td>-1.1</td>\n",
              "      <td>94.767</td>\n",
              "      <td>-50.8</td>\n",
              "      <td>1.028</td>\n",
              "      <td>4963.6</td>\n",
              "    </tr>\n",
              "    <tr>\n",
              "      <th>41185</th>\n",
              "      <td>56</td>\n",
              "      <td>189</td>\n",
              "      <td>2</td>\n",
              "      <td>999</td>\n",
              "      <td>0</td>\n",
              "      <td>-1.1</td>\n",
              "      <td>94.767</td>\n",
              "      <td>-50.8</td>\n",
              "      <td>1.028</td>\n",
              "      <td>4963.6</td>\n",
              "    </tr>\n",
              "    <tr>\n",
              "      <th>41186</th>\n",
              "      <td>44</td>\n",
              "      <td>442</td>\n",
              "      <td>1</td>\n",
              "      <td>999</td>\n",
              "      <td>0</td>\n",
              "      <td>-1.1</td>\n",
              "      <td>94.767</td>\n",
              "      <td>-50.8</td>\n",
              "      <td>1.028</td>\n",
              "      <td>4963.6</td>\n",
              "    </tr>\n",
              "    <tr>\n",
              "      <th>41187</th>\n",
              "      <td>74</td>\n",
              "      <td>239</td>\n",
              "      <td>3</td>\n",
              "      <td>999</td>\n",
              "      <td>1</td>\n",
              "      <td>-1.1</td>\n",
              "      <td>94.767</td>\n",
              "      <td>-50.8</td>\n",
              "      <td>1.028</td>\n",
              "      <td>4963.6</td>\n",
              "    </tr>\n",
              "  </tbody>\n",
              "</table>\n",
              "<p>41188 rows × 10 columns</p>\n",
              "</div>"
            ],
            "text/plain": [
              "       age  duration  campaign  ...  cons.conf.idx  euribor3m  nr.employed\n",
              "0       56       261         1  ...          -36.4      4.857       5191.0\n",
              "1       57       149         1  ...          -36.4      4.857       5191.0\n",
              "2       37       226         1  ...          -36.4      4.857       5191.0\n",
              "3       40       151         1  ...          -36.4      4.857       5191.0\n",
              "4       56       307         1  ...          -36.4      4.857       5191.0\n",
              "...    ...       ...       ...  ...            ...        ...          ...\n",
              "41183   73       334         1  ...          -50.8      1.028       4963.6\n",
              "41184   46       383         1  ...          -50.8      1.028       4963.6\n",
              "41185   56       189         2  ...          -50.8      1.028       4963.6\n",
              "41186   44       442         1  ...          -50.8      1.028       4963.6\n",
              "41187   74       239         3  ...          -50.8      1.028       4963.6\n",
              "\n",
              "[41188 rows x 10 columns]"
            ]
          },
          "metadata": {
            "tags": []
          },
          "execution_count": 13
        }
      ]
    },
    {
      "cell_type": "code",
      "metadata": {
        "id": "6xrryuRtbzIL"
      },
      "source": [
        "# get categorical data\n",
        "categorical_features = X.select_dtypes(include=[object])"
      ],
      "execution_count": 14,
      "outputs": []
    },
    {
      "cell_type": "code",
      "metadata": {
        "colab": {
          "base_uri": "https://localhost:8080/",
          "height": 406
        },
        "id": "vBQRvg1RcdCK",
        "outputId": "3220b0e3-87bd-4bc3-ae89-bd35dd700266"
      },
      "source": [
        "categorical_features"
      ],
      "execution_count": 15,
      "outputs": [
        {
          "output_type": "execute_result",
          "data": {
            "text/html": [
              "<div>\n",
              "<style scoped>\n",
              "    .dataframe tbody tr th:only-of-type {\n",
              "        vertical-align: middle;\n",
              "    }\n",
              "\n",
              "    .dataframe tbody tr th {\n",
              "        vertical-align: top;\n",
              "    }\n",
              "\n",
              "    .dataframe thead th {\n",
              "        text-align: right;\n",
              "    }\n",
              "</style>\n",
              "<table border=\"1\" class=\"dataframe\">\n",
              "  <thead>\n",
              "    <tr style=\"text-align: right;\">\n",
              "      <th></th>\n",
              "      <th>job</th>\n",
              "      <th>marital</th>\n",
              "      <th>education</th>\n",
              "      <th>default</th>\n",
              "      <th>housing</th>\n",
              "      <th>loan</th>\n",
              "      <th>contact</th>\n",
              "      <th>month</th>\n",
              "      <th>day_of_week</th>\n",
              "      <th>poutcome</th>\n",
              "    </tr>\n",
              "  </thead>\n",
              "  <tbody>\n",
              "    <tr>\n",
              "      <th>0</th>\n",
              "      <td>housemaid</td>\n",
              "      <td>married</td>\n",
              "      <td>basic.4y</td>\n",
              "      <td>no</td>\n",
              "      <td>no</td>\n",
              "      <td>no</td>\n",
              "      <td>telephone</td>\n",
              "      <td>may</td>\n",
              "      <td>mon</td>\n",
              "      <td>nonexistent</td>\n",
              "    </tr>\n",
              "    <tr>\n",
              "      <th>1</th>\n",
              "      <td>services</td>\n",
              "      <td>married</td>\n",
              "      <td>high.school</td>\n",
              "      <td>unknown</td>\n",
              "      <td>no</td>\n",
              "      <td>no</td>\n",
              "      <td>telephone</td>\n",
              "      <td>may</td>\n",
              "      <td>mon</td>\n",
              "      <td>nonexistent</td>\n",
              "    </tr>\n",
              "    <tr>\n",
              "      <th>2</th>\n",
              "      <td>services</td>\n",
              "      <td>married</td>\n",
              "      <td>high.school</td>\n",
              "      <td>no</td>\n",
              "      <td>yes</td>\n",
              "      <td>no</td>\n",
              "      <td>telephone</td>\n",
              "      <td>may</td>\n",
              "      <td>mon</td>\n",
              "      <td>nonexistent</td>\n",
              "    </tr>\n",
              "    <tr>\n",
              "      <th>3</th>\n",
              "      <td>admin.</td>\n",
              "      <td>married</td>\n",
              "      <td>basic.6y</td>\n",
              "      <td>no</td>\n",
              "      <td>no</td>\n",
              "      <td>no</td>\n",
              "      <td>telephone</td>\n",
              "      <td>may</td>\n",
              "      <td>mon</td>\n",
              "      <td>nonexistent</td>\n",
              "    </tr>\n",
              "    <tr>\n",
              "      <th>4</th>\n",
              "      <td>services</td>\n",
              "      <td>married</td>\n",
              "      <td>high.school</td>\n",
              "      <td>no</td>\n",
              "      <td>no</td>\n",
              "      <td>yes</td>\n",
              "      <td>telephone</td>\n",
              "      <td>may</td>\n",
              "      <td>mon</td>\n",
              "      <td>nonexistent</td>\n",
              "    </tr>\n",
              "    <tr>\n",
              "      <th>...</th>\n",
              "      <td>...</td>\n",
              "      <td>...</td>\n",
              "      <td>...</td>\n",
              "      <td>...</td>\n",
              "      <td>...</td>\n",
              "      <td>...</td>\n",
              "      <td>...</td>\n",
              "      <td>...</td>\n",
              "      <td>...</td>\n",
              "      <td>...</td>\n",
              "    </tr>\n",
              "    <tr>\n",
              "      <th>41183</th>\n",
              "      <td>retired</td>\n",
              "      <td>married</td>\n",
              "      <td>professional.course</td>\n",
              "      <td>no</td>\n",
              "      <td>yes</td>\n",
              "      <td>no</td>\n",
              "      <td>cellular</td>\n",
              "      <td>nov</td>\n",
              "      <td>fri</td>\n",
              "      <td>nonexistent</td>\n",
              "    </tr>\n",
              "    <tr>\n",
              "      <th>41184</th>\n",
              "      <td>blue-collar</td>\n",
              "      <td>married</td>\n",
              "      <td>professional.course</td>\n",
              "      <td>no</td>\n",
              "      <td>no</td>\n",
              "      <td>no</td>\n",
              "      <td>cellular</td>\n",
              "      <td>nov</td>\n",
              "      <td>fri</td>\n",
              "      <td>nonexistent</td>\n",
              "    </tr>\n",
              "    <tr>\n",
              "      <th>41185</th>\n",
              "      <td>retired</td>\n",
              "      <td>married</td>\n",
              "      <td>university.degree</td>\n",
              "      <td>no</td>\n",
              "      <td>yes</td>\n",
              "      <td>no</td>\n",
              "      <td>cellular</td>\n",
              "      <td>nov</td>\n",
              "      <td>fri</td>\n",
              "      <td>nonexistent</td>\n",
              "    </tr>\n",
              "    <tr>\n",
              "      <th>41186</th>\n",
              "      <td>technician</td>\n",
              "      <td>married</td>\n",
              "      <td>professional.course</td>\n",
              "      <td>no</td>\n",
              "      <td>no</td>\n",
              "      <td>no</td>\n",
              "      <td>cellular</td>\n",
              "      <td>nov</td>\n",
              "      <td>fri</td>\n",
              "      <td>nonexistent</td>\n",
              "    </tr>\n",
              "    <tr>\n",
              "      <th>41187</th>\n",
              "      <td>retired</td>\n",
              "      <td>married</td>\n",
              "      <td>professional.course</td>\n",
              "      <td>no</td>\n",
              "      <td>yes</td>\n",
              "      <td>no</td>\n",
              "      <td>cellular</td>\n",
              "      <td>nov</td>\n",
              "      <td>fri</td>\n",
              "      <td>failure</td>\n",
              "    </tr>\n",
              "  </tbody>\n",
              "</table>\n",
              "<p>41188 rows × 10 columns</p>\n",
              "</div>"
            ],
            "text/plain": [
              "               job  marital            education  ... month day_of_week     poutcome\n",
              "0        housemaid  married             basic.4y  ...   may         mon  nonexistent\n",
              "1         services  married          high.school  ...   may         mon  nonexistent\n",
              "2         services  married          high.school  ...   may         mon  nonexistent\n",
              "3           admin.  married             basic.6y  ...   may         mon  nonexistent\n",
              "4         services  married          high.school  ...   may         mon  nonexistent\n",
              "...            ...      ...                  ...  ...   ...         ...          ...\n",
              "41183      retired  married  professional.course  ...   nov         fri  nonexistent\n",
              "41184  blue-collar  married  professional.course  ...   nov         fri  nonexistent\n",
              "41185      retired  married    university.degree  ...   nov         fri  nonexistent\n",
              "41186   technician  married  professional.course  ...   nov         fri  nonexistent\n",
              "41187      retired  married  professional.course  ...   nov         fri      failure\n",
              "\n",
              "[41188 rows x 10 columns]"
            ]
          },
          "metadata": {
            "tags": []
          },
          "execution_count": 15
        }
      ]
    },
    {
      "cell_type": "code",
      "metadata": {
        "id": "_ZP5JyzOceIq"
      },
      "source": [
        "# IMPORT to set the features a list. If not, it may affect the Fit_Transform method under ColumnTransformer\n",
        "num_features, categorical_features =  list(num_features), list(categorical_features)\n",
        "\n",
        "# pipeline for numerical attributes\n",
        "num_pipeline = Pipeline(steps=[\n",
        "                               ('imputer', SimpleImputer(strategy='median')),\n",
        "                               ('std_scaler', StandardScaler())])\n",
        "\n",
        "# full pipeline using ColumnTransformer - dealing with numerical and categorical data in on spot\n",
        "full_pipeline=ColumnTransformer(transformers=[\n",
        "                                              ('num', num_pipeline, num_features),\n",
        "                                              ('categorical', OneHotEncoder(), categorical_features)])"
      ],
      "execution_count": 21,
      "outputs": []
    },
    {
      "cell_type": "code",
      "metadata": {
        "id": "0cyi807hc8Ta"
      },
      "source": [
        "# fit and transformer the entire dataset\n",
        "X_transformed = full_pipeline.fit_transform(X)"
      ],
      "execution_count": 22,
      "outputs": []
    },
    {
      "cell_type": "code",
      "metadata": {
        "colab": {
          "base_uri": "https://localhost:8080/"
        },
        "id": "AKJCMuWSeut0",
        "outputId": "25c61ebc-2054-448d-bcc0-10295d767500"
      },
      "source": [
        "print('Type for the data transformded after applying full pipeline :', type(X_transformed))"
      ],
      "execution_count": 25,
      "outputs": [
        {
          "output_type": "stream",
          "text": [
            "Type for the data transformded after applying full pipeline : <class 'numpy.ndarray'>\n"
          ],
          "name": "stdout"
        }
      ]
    },
    {
      "cell_type": "markdown",
      "metadata": {
        "id": "8TXfnZVZfFrg"
      },
      "source": [
        "Preprocessing is a KEY step in any ML model. Let's convert the preprocessing data - scaled features - to a dataframe and check to make sure the scalling worked. \n",
        "Attention: it'll not occor in here - got a sparse matric!!!"
      ]
    },
    {
      "cell_type": "code",
      "metadata": {
        "id": "lErkbAZgfDZm"
      },
      "source": [
        "#df_feat = pd.DataFrame(X_transformed, columns=data.columns[:-1])\n",
        "\n",
        "# skipping..."
      ],
      "execution_count": 31,
      "outputs": []
    },
    {
      "cell_type": "markdown",
      "metadata": {
        "id": "E0k4wKQNgJ4z"
      },
      "source": [
        "# Ok let's apply the ML method\n",
        "\n",
        "## Splitting  the dataset already transformed in train&test"
      ]
    },
    {
      "cell_type": "code",
      "metadata": {
        "id": "zwXYB6x6exRr"
      },
      "source": [
        "X_train, X_test, y_train, y_test = train_test_split(X_transformed, y, test_size=0.3, random_state=42)"
      ],
      "execution_count": 34,
      "outputs": []
    },
    {
      "cell_type": "markdown",
      "metadata": {
        "id": "CKlF8KeZg6Wd"
      },
      "source": [
        "# Fit the train dataset\n",
        "\n",
        "#Defined KNN instance with n_neigbors=1"
      ]
    },
    {
      "cell_type": "code",
      "metadata": {
        "colab": {
          "base_uri": "https://localhost:8080/"
        },
        "id": "0BTaVl8TfiC3",
        "outputId": "92178c8f-cedd-4eca-c3bf-5985f7b1f966"
      },
      "source": [
        "clf_knn = KNeighborsClassifier(n_neighbors=1)  # defined oject\n",
        "\n",
        "clf_knn.fit(X_train, y_train)\n",
        "\n",
        "# note that the distance metric used is Euclidian - metric='minkowski', and p=2"
      ],
      "execution_count": 44,
      "outputs": [
        {
          "output_type": "execute_result",
          "data": {
            "text/plain": [
              "KNeighborsClassifier(algorithm='auto', leaf_size=30, metric='minkowski',\n",
              "                     metric_params=None, n_jobs=None, n_neighbors=1, p=2,\n",
              "                     weights='uniform')"
            ]
          },
          "metadata": {
            "tags": []
          },
          "execution_count": 44
        }
      ]
    },
    {
      "cell_type": "code",
      "metadata": {
        "colab": {
          "base_uri": "https://localhost:8080/"
        },
        "id": "AHeSpw4khp2T",
        "outputId": "e044b38c-0fde-4104-d772-e220170a9823"
      },
      "source": [
        "print('KNN model fitted against training dataset already preprocessing.')"
      ],
      "execution_count": 45,
      "outputs": [
        {
          "output_type": "stream",
          "text": [
            "KNN model fitted against training dataset already preprocessing.\n"
          ],
          "name": "stdout"
        }
      ]
    },
    {
      "cell_type": "markdown",
      "metadata": {
        "id": "N0aT0-p-iNBU"
      },
      "source": [
        "# Prediction and Evaluations\n",
        "\n",
        "Using the predict method against the X_Test.\n",
        "\n"
      ]
    },
    {
      "cell_type": "code",
      "metadata": {
        "id": "zvOgH9NqiHaL"
      },
      "source": [
        "pred = clf_knn.predict(X_test)"
      ],
      "execution_count": 46,
      "outputs": []
    },
    {
      "cell_type": "markdown",
      "metadata": {
        "id": "Q2pbWh-Ljnzk"
      },
      "source": [
        "# Model Metrics\n",
        "\n",
        "Create a classification report and confusion matrix"
      ]
    },
    {
      "cell_type": "code",
      "metadata": {
        "colab": {
          "base_uri": "https://localhost:8080/"
        },
        "id": "VOh3p8Cfi3Mk",
        "outputId": "6c9cf30d-d222-41a7-c093-5bf57432aaa1"
      },
      "source": [
        "print('Classification Report')\n",
        "print(classification_report(y_test, pred))"
      ],
      "execution_count": 47,
      "outputs": [
        {
          "output_type": "stream",
          "text": [
            "Classification Report\n",
            "              precision    recall  f1-score   support\n",
            "\n",
            "          no       0.93      0.94      0.93     10968\n",
            "         yes       0.48      0.46      0.47      1389\n",
            "\n",
            "    accuracy                           0.88     12357\n",
            "   macro avg       0.71      0.70      0.70     12357\n",
            "weighted avg       0.88      0.88      0.88     12357\n",
            "\n"
          ],
          "name": "stdout"
        }
      ]
    },
    {
      "cell_type": "code",
      "metadata": {
        "colab": {
          "base_uri": "https://localhost:8080/"
        },
        "id": "MxuXFPaMjzhS",
        "outputId": "b8b16a38-3d87-4e27-c183-96f239ac4fe1"
      },
      "source": [
        "print('Confusion Matrix')\n",
        "print(confusion_matrix(y_test, pred))"
      ],
      "execution_count": 48,
      "outputs": [
        {
          "output_type": "stream",
          "text": [
            "Confusion Matrix\n",
            "[[10280   688]\n",
            " [  745   644]]\n"
          ],
          "name": "stdout"
        }
      ]
    },
    {
      "cell_type": "markdown",
      "metadata": {
        "id": "Ip9wb8MTkTFL"
      },
      "source": [
        "# Choosing a K value that better suits the KNN method\n",
        "\n",
        "# Applying the **Elbow Method**\n",
        "\n",
        "Let's create a for loop that will train several KNN classifiers with different k values, and let's keep the **error_rate** for each model."
      ]
    },
    {
      "cell_type": "code",
      "metadata": {
        "id": "dDJz5G5Ej616"
      },
      "source": [
        "# error_rate as empty list\n",
        "error_rate = []\n",
        "\n",
        "for i in range (1,10):                                    # different k values\n",
        "  clf_knn = KNeighborsClassifier(n_neighbors=i)           # ml object\n",
        "  clf_knn.fit(X_train, y_train)                           # fit ml\n",
        "  pred_i = clf_knn.predict(X_test)                        # predict values\n",
        "  error_rate.append(np.mean(pred_i != y_test))            # stores the average errors where predictions don't match y_test values\n"
      ],
      "execution_count": 50,
      "outputs": []
    },
    {
      "cell_type": "code",
      "metadata": {
        "colab": {
          "base_uri": "https://localhost:8080/"
        },
        "id": "mVAu7Y30lN2L",
        "outputId": "5c14ebed-7a10-4b05-c0d7-b97bfebd5d76"
      },
      "source": [
        "error_rate"
      ],
      "execution_count": 51,
      "outputs": [
        {
          "output_type": "execute_result",
          "data": {
            "text/plain": [
              "[0.11596665857408756,\n",
              " 0.1023711256777535,\n",
              " 0.10269482884195193,\n",
              " 0.09961964878206685,\n",
              " 0.09856761349842194,\n",
              " 0.09767742979687627,\n",
              " 0.09848668770737234,\n",
              " 0.09711094925952901,\n",
              " 0.0947641013190904]"
            ]
          },
          "metadata": {
            "tags": []
          },
          "execution_count": 51
        }
      ]
    },
    {
      "cell_type": "markdown",
      "metadata": {
        "id": "eTEgqzJVn7-L"
      },
      "source": [
        "# Plotting K-Values X Error Rate"
      ]
    },
    {
      "cell_type": "code",
      "metadata": {
        "colab": {
          "base_uri": "https://localhost:8080/",
          "height": 513
        },
        "id": "7pEmrcn7n2O6",
        "outputId": "426ae6b6-a041-4283-8451-fe89b148846c"
      },
      "source": [
        "plt.figure(figsize=(20,8))\n",
        "plt.plot(range(1,10), error_rate, color='blue', linestyle='--', marker='o',\n",
        "         markerfacecolor='red', markersize=15)\n",
        "plt.title('Error Rate vs K Value')\n",
        "plt.xlabel('K Value')\n",
        "plt.ylabel('Error Rate');"
      ],
      "execution_count": 58,
      "outputs": [
        {
          "output_type": "display_data",
          "data": {
            "image/png": "[encoded data removed]",
            "text/plain": [
              "<Figure size 1440x576 with 1 Axes>"
            ]
          },
          "metadata": {
            "tags": [],
            "needs_background": "light"
          }
        }
      ]
    },
    {
      "cell_type": "markdown",
      "metadata": {
        "id": "BmvMkgJgpt1L"
      },
      "source": [
        "# Ok, let's now retraing the KNN model with the 'best' K value."
      ]
    },
    {
      "cell_type": "code",
      "metadata": {
        "id": "bRTZsT_6ozc9"
      },
      "source": [
        "# k = \n",
        "clf_knn = KNeighborsClassifier(n_neighbors=1)  # defined oject\n",
        "clf_knn.fit(X_train, y_train)\n",
        "pred = clf_knn.predict(X_test)\n",
        "\n",
        "print('Classification Report')\n",
        "print(classification_report(y_test, pred))\n",
        "\n",
        "rint('Confusion Matrix')\n",
        "print(confusion_matrix(y_test, pred))"
      ],
      "execution_count": null,
      "outputs": []
    }
  ]
}