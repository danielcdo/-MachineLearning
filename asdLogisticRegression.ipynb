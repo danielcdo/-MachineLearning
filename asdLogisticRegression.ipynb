{
  "nbformat": 4,
  "nbformat_minor": 0,
  "metadata": {
    "colab": {
      "name": "asdLogisticRegression.ipynb",
      "provenance": [],
      "collapsed_sections": [],
      "authorship_tag": "ABX9TyMnjifcK/OV+Jtb/yCuPfkD",
      "include_colab_link": true
    },
    "kernelspec": {
      "name": "python3",
      "display_name": "Python 3"
    },
    "language_info": {
      "name": "python"
    }
  },
  "cells": [
    {
      "cell_type": "markdown",
      "metadata": {
        "id": "view-in-github",
        "colab_type": "text"
      },
      "source": [
        "<a href=\"https://colab.research.google.com/github/danielcdo/-MachineLearning/blob/main/asdLogisticRegression.ipynb\" target=\"_parent\"><img src=\"https://colab.research.google.com/assets/colab-badge.svg\" alt=\"Open In Colab\"/></a>"
      ]
    },
    {
      "cell_type": "markdown",
      "metadata": {
        "id": "FmQm6hxezhGh"
      },
      "source": [
        "#Logistic Regression Model\n",
        "Stastitical model to predict ASD\n",
        "\n",
        "**Dataset source:** https://archive.ics.uci.edu/ml/datasets/Autistic+Spectrum+Disorder+Screening+Data+for+Children++"
      ]
    },
    {
      "cell_type": "code",
      "metadata": {
        "id": "H4pfdLU6i-my"
      },
      "source": [
        "import numpy as np\n",
        "import pandas as pd\n",
        "from pandas.plotting import scatter_matrix\n",
        "\n",
        "from matplotlib import pyplot as plt\n",
        "import seaborn as sns\n",
        "\n",
        "from sklearn.linear_model import LogisticRegression\n",
        "from sklearn.model_selection import train_test_split\n",
        "from sklearn.metrics import confusion_matrix, classification_report\n",
        "from sklearn.preprocessing import StandardScaler, OneHotEncoder\n",
        "from sklearn.impute import SimpleImputer\n",
        "from sklearn.compose import ColumnTransformer\n",
        "from sklearn.pipeline import Pipeline\n",
        "\n",
        "from scipy.io import arff\n",
        "\n",
        "%matplotlib inline"
      ],
      "execution_count": 125,
      "outputs": []
    },
    {
      "cell_type": "markdown",
      "metadata": {
        "id": "z_MaaZXaoT9x"
      },
      "source": [
        "#Load dataset"
      ]
    },
    {
      "cell_type": "code",
      "metadata": {
        "id": "d7vpc3dEjpfw"
      },
      "source": [
        "# Load the data using \"arff.loadarff\" then convert it to a dataframe\n",
        "# file location: /content/sample_data/Autism-Child-Data.arff\n",
        "# Attribute-Relation File Format (ARFF)\n",
        "data = arff.loadarff('sample_data/Autism-Child-Data.arff',  )\n",
        "df = pd.DataFrame(data[0])"
      ],
      "execution_count": 87,
      "outputs": []
    },
    {
      "cell_type": "code",
      "metadata": {
        "colab": {
          "base_uri": "https://localhost:8080/",
          "height": 197
        },
        "id": "uZ3_OaEYxCUk",
        "outputId": "a6e5a811-e577-484c-9c8a-7003151f6a8f"
      },
      "source": [
        "# dataset contains b's:python's way of displaying a bytes array and are not part of the data\n",
        "df.head()"
      ],
      "execution_count": 88,
      "outputs": [
        {
          "output_type": "execute_result",
          "data": {
            "text/html": [
              "<div>\n",
              "<style scoped>\n",
              "    .dataframe tbody tr th:only-of-type {\n",
              "        vertical-align: middle;\n",
              "    }\n",
              "\n",
              "    .dataframe tbody tr th {\n",
              "        vertical-align: top;\n",
              "    }\n",
              "\n",
              "    .dataframe thead th {\n",
              "        text-align: right;\n",
              "    }\n",
              "</style>\n",
              "<table border=\"1\" class=\"dataframe\">\n",
              "  <thead>\n",
              "    <tr style=\"text-align: right;\">\n",
              "      <th></th>\n",
              "      <th>A1_Score</th>\n",
              "      <th>A2_Score</th>\n",
              "      <th>A3_Score</th>\n",
              "      <th>A4_Score</th>\n",
              "      <th>A5_Score</th>\n",
              "      <th>A6_Score</th>\n",
              "      <th>A7_Score</th>\n",
              "      <th>A8_Score</th>\n",
              "      <th>A9_Score</th>\n",
              "      <th>A10_Score</th>\n",
              "      <th>age</th>\n",
              "      <th>gender</th>\n",
              "      <th>ethnicity</th>\n",
              "      <th>jundice</th>\n",
              "      <th>austim</th>\n",
              "      <th>contry_of_res</th>\n",
              "      <th>used_app_before</th>\n",
              "      <th>result</th>\n",
              "      <th>age_desc</th>\n",
              "      <th>relation</th>\n",
              "      <th>Class/ASD</th>\n",
              "    </tr>\n",
              "  </thead>\n",
              "  <tbody>\n",
              "    <tr>\n",
              "      <th>0</th>\n",
              "      <td>b'1'</td>\n",
              "      <td>b'1'</td>\n",
              "      <td>b'0'</td>\n",
              "      <td>b'0'</td>\n",
              "      <td>b'1'</td>\n",
              "      <td>b'1'</td>\n",
              "      <td>b'0'</td>\n",
              "      <td>b'1'</td>\n",
              "      <td>b'0'</td>\n",
              "      <td>b'0'</td>\n",
              "      <td>6.0</td>\n",
              "      <td>b'm'</td>\n",
              "      <td>b'Others'</td>\n",
              "      <td>b'no'</td>\n",
              "      <td>b'no'</td>\n",
              "      <td>b'Jordan'</td>\n",
              "      <td>b'no'</td>\n",
              "      <td>5.0</td>\n",
              "      <td>b'4-11 years'</td>\n",
              "      <td>b'Parent'</td>\n",
              "      <td>b'NO'</td>\n",
              "    </tr>\n",
              "    <tr>\n",
              "      <th>1</th>\n",
              "      <td>b'1'</td>\n",
              "      <td>b'1'</td>\n",
              "      <td>b'0'</td>\n",
              "      <td>b'0'</td>\n",
              "      <td>b'1'</td>\n",
              "      <td>b'1'</td>\n",
              "      <td>b'0'</td>\n",
              "      <td>b'1'</td>\n",
              "      <td>b'0'</td>\n",
              "      <td>b'0'</td>\n",
              "      <td>6.0</td>\n",
              "      <td>b'm'</td>\n",
              "      <td>b'Middle Eastern '</td>\n",
              "      <td>b'no'</td>\n",
              "      <td>b'no'</td>\n",
              "      <td>b'Jordan'</td>\n",
              "      <td>b'no'</td>\n",
              "      <td>5.0</td>\n",
              "      <td>b'4-11 years'</td>\n",
              "      <td>b'Parent'</td>\n",
              "      <td>b'NO'</td>\n",
              "    </tr>\n",
              "    <tr>\n",
              "      <th>2</th>\n",
              "      <td>b'1'</td>\n",
              "      <td>b'1'</td>\n",
              "      <td>b'0'</td>\n",
              "      <td>b'0'</td>\n",
              "      <td>b'0'</td>\n",
              "      <td>b'1'</td>\n",
              "      <td>b'1'</td>\n",
              "      <td>b'1'</td>\n",
              "      <td>b'0'</td>\n",
              "      <td>b'0'</td>\n",
              "      <td>6.0</td>\n",
              "      <td>b'm'</td>\n",
              "      <td>b'?'</td>\n",
              "      <td>b'no'</td>\n",
              "      <td>b'no'</td>\n",
              "      <td>b'Jordan'</td>\n",
              "      <td>b'yes'</td>\n",
              "      <td>5.0</td>\n",
              "      <td>b'4-11 years'</td>\n",
              "      <td>b'?'</td>\n",
              "      <td>b'NO'</td>\n",
              "    </tr>\n",
              "    <tr>\n",
              "      <th>3</th>\n",
              "      <td>b'0'</td>\n",
              "      <td>b'1'</td>\n",
              "      <td>b'0'</td>\n",
              "      <td>b'0'</td>\n",
              "      <td>b'1'</td>\n",
              "      <td>b'1'</td>\n",
              "      <td>b'0'</td>\n",
              "      <td>b'0'</td>\n",
              "      <td>b'0'</td>\n",
              "      <td>b'1'</td>\n",
              "      <td>5.0</td>\n",
              "      <td>b'f'</td>\n",
              "      <td>b'?'</td>\n",
              "      <td>b'yes'</td>\n",
              "      <td>b'no'</td>\n",
              "      <td>b'Jordan'</td>\n",
              "      <td>b'no'</td>\n",
              "      <td>4.0</td>\n",
              "      <td>b'4-11 years'</td>\n",
              "      <td>b'?'</td>\n",
              "      <td>b'NO'</td>\n",
              "    </tr>\n",
              "    <tr>\n",
              "      <th>4</th>\n",
              "      <td>b'1'</td>\n",
              "      <td>b'1'</td>\n",
              "      <td>b'1'</td>\n",
              "      <td>b'1'</td>\n",
              "      <td>b'1'</td>\n",
              "      <td>b'1'</td>\n",
              "      <td>b'1'</td>\n",
              "      <td>b'1'</td>\n",
              "      <td>b'1'</td>\n",
              "      <td>b'1'</td>\n",
              "      <td>5.0</td>\n",
              "      <td>b'm'</td>\n",
              "      <td>b'Others'</td>\n",
              "      <td>b'yes'</td>\n",
              "      <td>b'no'</td>\n",
              "      <td>b'United States'</td>\n",
              "      <td>b'no'</td>\n",
              "      <td>10.0</td>\n",
              "      <td>b'4-11 years'</td>\n",
              "      <td>b'Parent'</td>\n",
              "      <td>b'YES'</td>\n",
              "    </tr>\n",
              "  </tbody>\n",
              "</table>\n",
              "</div>"
            ],
            "text/plain": [
              "  A1_Score A2_Score A3_Score  ...       age_desc   relation Class/ASD\n",
              "0     b'1'     b'1'     b'0'  ...  b'4-11 years'  b'Parent'     b'NO'\n",
              "1     b'1'     b'1'     b'0'  ...  b'4-11 years'  b'Parent'     b'NO'\n",
              "2     b'1'     b'1'     b'0'  ...  b'4-11 years'       b'?'     b'NO'\n",
              "3     b'0'     b'1'     b'0'  ...  b'4-11 years'       b'?'     b'NO'\n",
              "4     b'1'     b'1'     b'1'  ...  b'4-11 years'  b'Parent'    b'YES'\n",
              "\n",
              "[5 rows x 21 columns]"
            ]
          },
          "metadata": {
            "tags": []
          },
          "execution_count": 88
        }
      ]
    },
    {
      "cell_type": "markdown",
      "metadata": {
        "id": "FJ7fj8UAoZK0"
      },
      "source": [
        "#Data cleanup\n",
        "\n",
        " - remove the 'bytes' from object columns - string\n",
        " - unstack and add the 'age' column back - only good column"
      ]
    },
    {
      "cell_type": "code",
      "metadata": {
        "id": "Vf1WpARolL7r"
      },
      "source": [
        "#df['A1_Score'] = df['A1_Score'].str.decode('utf-8')\n",
        "# select only string columns\n",
        "df_str = df.select_dtypes([np.object])"
      ],
      "execution_count": 89,
      "outputs": []
    },
    {
      "cell_type": "code",
      "metadata": {
        "id": "JJOpU0-KlM6t"
      },
      "source": [
        "# decode to remove 'bs'\n",
        "df_tr = df_str.stack().str.decode('utf-8').unstack()"
      ],
      "execution_count": 90,
      "outputs": []
    },
    {
      "cell_type": "code",
      "metadata": {
        "id": "_lw1E562o8yN"
      },
      "source": [
        "df_tr['age'] = df['age']  # dataframe transformed"
      ],
      "execution_count": 91,
      "outputs": []
    },
    {
      "cell_type": "code",
      "metadata": {
        "colab": {
          "base_uri": "https://localhost:8080/",
          "height": 197
        },
        "id": "29DbLIfPwB-y",
        "outputId": "c6881fab-372a-44b3-8893-25774ac5f15d"
      },
      "source": [
        "df_tr.head()"
      ],
      "execution_count": 92,
      "outputs": [
        {
          "output_type": "execute_result",
          "data": {
            "text/html": [
              "<div>\n",
              "<style scoped>\n",
              "    .dataframe tbody tr th:only-of-type {\n",
              "        vertical-align: middle;\n",
              "    }\n",
              "\n",
              "    .dataframe tbody tr th {\n",
              "        vertical-align: top;\n",
              "    }\n",
              "\n",
              "    .dataframe thead th {\n",
              "        text-align: right;\n",
              "    }\n",
              "</style>\n",
              "<table border=\"1\" class=\"dataframe\">\n",
              "  <thead>\n",
              "    <tr style=\"text-align: right;\">\n",
              "      <th></th>\n",
              "      <th>A1_Score</th>\n",
              "      <th>A2_Score</th>\n",
              "      <th>A3_Score</th>\n",
              "      <th>A4_Score</th>\n",
              "      <th>A5_Score</th>\n",
              "      <th>A6_Score</th>\n",
              "      <th>A7_Score</th>\n",
              "      <th>A8_Score</th>\n",
              "      <th>A9_Score</th>\n",
              "      <th>A10_Score</th>\n",
              "      <th>gender</th>\n",
              "      <th>ethnicity</th>\n",
              "      <th>jundice</th>\n",
              "      <th>austim</th>\n",
              "      <th>contry_of_res</th>\n",
              "      <th>used_app_before</th>\n",
              "      <th>age_desc</th>\n",
              "      <th>relation</th>\n",
              "      <th>Class/ASD</th>\n",
              "      <th>age</th>\n",
              "    </tr>\n",
              "  </thead>\n",
              "  <tbody>\n",
              "    <tr>\n",
              "      <th>0</th>\n",
              "      <td>1</td>\n",
              "      <td>1</td>\n",
              "      <td>0</td>\n",
              "      <td>0</td>\n",
              "      <td>1</td>\n",
              "      <td>1</td>\n",
              "      <td>0</td>\n",
              "      <td>1</td>\n",
              "      <td>0</td>\n",
              "      <td>0</td>\n",
              "      <td>m</td>\n",
              "      <td>Others</td>\n",
              "      <td>no</td>\n",
              "      <td>no</td>\n",
              "      <td>Jordan</td>\n",
              "      <td>no</td>\n",
              "      <td>4-11 years</td>\n",
              "      <td>Parent</td>\n",
              "      <td>NO</td>\n",
              "      <td>6.0</td>\n",
              "    </tr>\n",
              "    <tr>\n",
              "      <th>1</th>\n",
              "      <td>1</td>\n",
              "      <td>1</td>\n",
              "      <td>0</td>\n",
              "      <td>0</td>\n",
              "      <td>1</td>\n",
              "      <td>1</td>\n",
              "      <td>0</td>\n",
              "      <td>1</td>\n",
              "      <td>0</td>\n",
              "      <td>0</td>\n",
              "      <td>m</td>\n",
              "      <td>Middle Eastern</td>\n",
              "      <td>no</td>\n",
              "      <td>no</td>\n",
              "      <td>Jordan</td>\n",
              "      <td>no</td>\n",
              "      <td>4-11 years</td>\n",
              "      <td>Parent</td>\n",
              "      <td>NO</td>\n",
              "      <td>6.0</td>\n",
              "    </tr>\n",
              "    <tr>\n",
              "      <th>2</th>\n",
              "      <td>1</td>\n",
              "      <td>1</td>\n",
              "      <td>0</td>\n",
              "      <td>0</td>\n",
              "      <td>0</td>\n",
              "      <td>1</td>\n",
              "      <td>1</td>\n",
              "      <td>1</td>\n",
              "      <td>0</td>\n",
              "      <td>0</td>\n",
              "      <td>m</td>\n",
              "      <td>?</td>\n",
              "      <td>no</td>\n",
              "      <td>no</td>\n",
              "      <td>Jordan</td>\n",
              "      <td>yes</td>\n",
              "      <td>4-11 years</td>\n",
              "      <td>?</td>\n",
              "      <td>NO</td>\n",
              "      <td>6.0</td>\n",
              "    </tr>\n",
              "    <tr>\n",
              "      <th>3</th>\n",
              "      <td>0</td>\n",
              "      <td>1</td>\n",
              "      <td>0</td>\n",
              "      <td>0</td>\n",
              "      <td>1</td>\n",
              "      <td>1</td>\n",
              "      <td>0</td>\n",
              "      <td>0</td>\n",
              "      <td>0</td>\n",
              "      <td>1</td>\n",
              "      <td>f</td>\n",
              "      <td>?</td>\n",
              "      <td>yes</td>\n",
              "      <td>no</td>\n",
              "      <td>Jordan</td>\n",
              "      <td>no</td>\n",
              "      <td>4-11 years</td>\n",
              "      <td>?</td>\n",
              "      <td>NO</td>\n",
              "      <td>5.0</td>\n",
              "    </tr>\n",
              "    <tr>\n",
              "      <th>4</th>\n",
              "      <td>1</td>\n",
              "      <td>1</td>\n",
              "      <td>1</td>\n",
              "      <td>1</td>\n",
              "      <td>1</td>\n",
              "      <td>1</td>\n",
              "      <td>1</td>\n",
              "      <td>1</td>\n",
              "      <td>1</td>\n",
              "      <td>1</td>\n",
              "      <td>m</td>\n",
              "      <td>Others</td>\n",
              "      <td>yes</td>\n",
              "      <td>no</td>\n",
              "      <td>United States</td>\n",
              "      <td>no</td>\n",
              "      <td>4-11 years</td>\n",
              "      <td>Parent</td>\n",
              "      <td>YES</td>\n",
              "      <td>5.0</td>\n",
              "    </tr>\n",
              "  </tbody>\n",
              "</table>\n",
              "</div>"
            ],
            "text/plain": [
              "  A1_Score A2_Score A3_Score A4_Score  ...    age_desc relation Class/ASD  age\n",
              "0        1        1        0        0  ...  4-11 years   Parent        NO  6.0\n",
              "1        1        1        0        0  ...  4-11 years   Parent        NO  6.0\n",
              "2        1        1        0        0  ...  4-11 years        ?        NO  6.0\n",
              "3        0        1        0        0  ...  4-11 years        ?        NO  5.0\n",
              "4        1        1        1        1  ...  4-11 years   Parent       YES  5.0\n",
              "\n",
              "[5 rows x 20 columns]"
            ]
          },
          "metadata": {
            "tags": []
          },
          "execution_count": 92
        }
      ]
    },
    {
      "cell_type": "code",
      "metadata": {
        "id": "RUxOcKYjwGbK",
        "colab": {
          "base_uri": "https://localhost:8080/"
        },
        "outputId": "856390a6-5420-4e5c-bc92-b5fb575c654b"
      },
      "source": [
        "df_tr.columns"
      ],
      "execution_count": 93,
      "outputs": [
        {
          "output_type": "execute_result",
          "data": {
            "text/plain": [
              "Index(['A1_Score', 'A2_Score', 'A3_Score', 'A4_Score', 'A5_Score', 'A6_Score',\n",
              "       'A7_Score', 'A8_Score', 'A9_Score', 'A10_Score', 'gender', 'ethnicity',\n",
              "       'jundice', 'austim', 'contry_of_res', 'used_app_before', 'age_desc',\n",
              "       'relation', 'Class/ASD', 'age'],\n",
              "      dtype='object')"
            ]
          },
          "metadata": {
            "tags": []
          },
          "execution_count": 93
        }
      ]
    },
    {
      "cell_type": "code",
      "metadata": {
        "id": "psm6kdM5yMjw"
      },
      "source": [
        "# re-arrange columns\n",
        "data = df_tr[['A1_Score', 'A2_Score', 'A3_Score', 'A4_Score', 'A5_Score', 'A6_Score',\n",
        "       'A7_Score', 'A8_Score', 'A9_Score', 'A10_Score', 'gender', 'age','ethnicity',\n",
        "       'jundice', 'austim', 'contry_of_res', 'used_app_before', 'age_desc',\n",
        "       'relation', 'Class/ASD']]"
      ],
      "execution_count": 94,
      "outputs": []
    },
    {
      "cell_type": "code",
      "metadata": {
        "colab": {
          "base_uri": "https://localhost:8080/",
          "height": 197
        },
        "id": "o1ksUuiryrBa",
        "outputId": "a3f5723a-40d6-4887-ec07-d493a8cc08ee"
      },
      "source": [
        "data.head(5)"
      ],
      "execution_count": 76,
      "outputs": [
        {
          "output_type": "execute_result",
          "data": {
            "text/html": [
              "<div>\n",
              "<style scoped>\n",
              "    .dataframe tbody tr th:only-of-type {\n",
              "        vertical-align: middle;\n",
              "    }\n",
              "\n",
              "    .dataframe tbody tr th {\n",
              "        vertical-align: top;\n",
              "    }\n",
              "\n",
              "    .dataframe thead th {\n",
              "        text-align: right;\n",
              "    }\n",
              "</style>\n",
              "<table border=\"1\" class=\"dataframe\">\n",
              "  <thead>\n",
              "    <tr style=\"text-align: right;\">\n",
              "      <th></th>\n",
              "      <th>A1_Score</th>\n",
              "      <th>A2_Score</th>\n",
              "      <th>A3_Score</th>\n",
              "      <th>A4_Score</th>\n",
              "      <th>A5_Score</th>\n",
              "      <th>A6_Score</th>\n",
              "      <th>A7_Score</th>\n",
              "      <th>A8_Score</th>\n",
              "      <th>A9_Score</th>\n",
              "      <th>A10_Score</th>\n",
              "      <th>gender</th>\n",
              "      <th>age</th>\n",
              "      <th>ethnicity</th>\n",
              "      <th>jundice</th>\n",
              "      <th>austim</th>\n",
              "      <th>contry_of_res</th>\n",
              "      <th>used_app_before</th>\n",
              "      <th>age_desc</th>\n",
              "      <th>relation</th>\n",
              "      <th>Class/ASD</th>\n",
              "    </tr>\n",
              "  </thead>\n",
              "  <tbody>\n",
              "    <tr>\n",
              "      <th>0</th>\n",
              "      <td>1</td>\n",
              "      <td>1</td>\n",
              "      <td>0</td>\n",
              "      <td>0</td>\n",
              "      <td>1</td>\n",
              "      <td>1</td>\n",
              "      <td>0</td>\n",
              "      <td>1</td>\n",
              "      <td>0</td>\n",
              "      <td>0</td>\n",
              "      <td>m</td>\n",
              "      <td>6.0</td>\n",
              "      <td>Others</td>\n",
              "      <td>no</td>\n",
              "      <td>no</td>\n",
              "      <td>Jordan</td>\n",
              "      <td>no</td>\n",
              "      <td>4-11 years</td>\n",
              "      <td>Parent</td>\n",
              "      <td>NO</td>\n",
              "    </tr>\n",
              "    <tr>\n",
              "      <th>1</th>\n",
              "      <td>1</td>\n",
              "      <td>1</td>\n",
              "      <td>0</td>\n",
              "      <td>0</td>\n",
              "      <td>1</td>\n",
              "      <td>1</td>\n",
              "      <td>0</td>\n",
              "      <td>1</td>\n",
              "      <td>0</td>\n",
              "      <td>0</td>\n",
              "      <td>m</td>\n",
              "      <td>6.0</td>\n",
              "      <td>Middle Eastern</td>\n",
              "      <td>no</td>\n",
              "      <td>no</td>\n",
              "      <td>Jordan</td>\n",
              "      <td>no</td>\n",
              "      <td>4-11 years</td>\n",
              "      <td>Parent</td>\n",
              "      <td>NO</td>\n",
              "    </tr>\n",
              "    <tr>\n",
              "      <th>2</th>\n",
              "      <td>1</td>\n",
              "      <td>1</td>\n",
              "      <td>0</td>\n",
              "      <td>0</td>\n",
              "      <td>0</td>\n",
              "      <td>1</td>\n",
              "      <td>1</td>\n",
              "      <td>1</td>\n",
              "      <td>0</td>\n",
              "      <td>0</td>\n",
              "      <td>m</td>\n",
              "      <td>6.0</td>\n",
              "      <td>?</td>\n",
              "      <td>no</td>\n",
              "      <td>no</td>\n",
              "      <td>Jordan</td>\n",
              "      <td>yes</td>\n",
              "      <td>4-11 years</td>\n",
              "      <td>?</td>\n",
              "      <td>NO</td>\n",
              "    </tr>\n",
              "    <tr>\n",
              "      <th>3</th>\n",
              "      <td>0</td>\n",
              "      <td>1</td>\n",
              "      <td>0</td>\n",
              "      <td>0</td>\n",
              "      <td>1</td>\n",
              "      <td>1</td>\n",
              "      <td>0</td>\n",
              "      <td>0</td>\n",
              "      <td>0</td>\n",
              "      <td>1</td>\n",
              "      <td>f</td>\n",
              "      <td>5.0</td>\n",
              "      <td>?</td>\n",
              "      <td>yes</td>\n",
              "      <td>no</td>\n",
              "      <td>Jordan</td>\n",
              "      <td>no</td>\n",
              "      <td>4-11 years</td>\n",
              "      <td>?</td>\n",
              "      <td>NO</td>\n",
              "    </tr>\n",
              "    <tr>\n",
              "      <th>4</th>\n",
              "      <td>1</td>\n",
              "      <td>1</td>\n",
              "      <td>1</td>\n",
              "      <td>1</td>\n",
              "      <td>1</td>\n",
              "      <td>1</td>\n",
              "      <td>1</td>\n",
              "      <td>1</td>\n",
              "      <td>1</td>\n",
              "      <td>1</td>\n",
              "      <td>m</td>\n",
              "      <td>5.0</td>\n",
              "      <td>Others</td>\n",
              "      <td>yes</td>\n",
              "      <td>no</td>\n",
              "      <td>United States</td>\n",
              "      <td>no</td>\n",
              "      <td>4-11 years</td>\n",
              "      <td>Parent</td>\n",
              "      <td>YES</td>\n",
              "    </tr>\n",
              "  </tbody>\n",
              "</table>\n",
              "</div>"
            ],
            "text/plain": [
              "  A1_Score A2_Score A3_Score  ...    age_desc relation Class/ASD\n",
              "0        1        1        0  ...  4-11 years   Parent        NO\n",
              "1        1        1        0  ...  4-11 years   Parent        NO\n",
              "2        1        1        0  ...  4-11 years        ?        NO\n",
              "3        0        1        0  ...  4-11 years        ?        NO\n",
              "4        1        1        1  ...  4-11 years   Parent       YES\n",
              "\n",
              "[5 rows x 20 columns]"
            ]
          },
          "metadata": {
            "tags": []
          },
          "execution_count": 76
        }
      ]
    },
    {
      "cell_type": "code",
      "metadata": {
        "colab": {
          "base_uri": "https://localhost:8080/"
        },
        "id": "Q0DlpJ2eysLb",
        "outputId": "6cd8417e-564a-4288-b80f-29c67f9d0fa7"
      },
      "source": [
        "data.info()"
      ],
      "execution_count": 95,
      "outputs": [
        {
          "output_type": "stream",
          "text": [
            "<class 'pandas.core.frame.DataFrame'>\n",
            "Int64Index: 292 entries, 0 to 291\n",
            "Data columns (total 20 columns):\n",
            " #   Column           Non-Null Count  Dtype  \n",
            "---  ------           --------------  -----  \n",
            " 0   A1_Score         292 non-null    object \n",
            " 1   A2_Score         292 non-null    object \n",
            " 2   A3_Score         292 non-null    object \n",
            " 3   A4_Score         292 non-null    object \n",
            " 4   A5_Score         292 non-null    object \n",
            " 5   A6_Score         292 non-null    object \n",
            " 6   A7_Score         292 non-null    object \n",
            " 7   A8_Score         292 non-null    object \n",
            " 8   A9_Score         292 non-null    object \n",
            " 9   A10_Score        292 non-null    object \n",
            " 10  gender           292 non-null    object \n",
            " 11  age              288 non-null    float64\n",
            " 12  ethnicity        292 non-null    object \n",
            " 13  jundice          292 non-null    object \n",
            " 14  austim           292 non-null    object \n",
            " 15  contry_of_res    292 non-null    object \n",
            " 16  used_app_before  292 non-null    object \n",
            " 17  age_desc         292 non-null    object \n",
            " 18  relation         292 non-null    object \n",
            " 19  Class/ASD        292 non-null    object \n",
            "dtypes: float64(1), object(19)\n",
            "memory usage: 47.9+ KB\n"
          ],
          "name": "stdout"
        }
      ]
    },
    {
      "cell_type": "code",
      "metadata": {
        "colab": {
          "base_uri": "https://localhost:8080/"
        },
        "id": "fm4pY2WbzACm",
        "outputId": "449b8f88-3ffb-471d-d464-f7bd665b1e6a"
      },
      "source": [
        "data.isnull().sum()"
      ],
      "execution_count": 96,
      "outputs": [
        {
          "output_type": "execute_result",
          "data": {
            "text/plain": [
              "A1_Score           0\n",
              "A2_Score           0\n",
              "A3_Score           0\n",
              "A4_Score           0\n",
              "A5_Score           0\n",
              "A6_Score           0\n",
              "A7_Score           0\n",
              "A8_Score           0\n",
              "A9_Score           0\n",
              "A10_Score          0\n",
              "gender             0\n",
              "age                4\n",
              "ethnicity          0\n",
              "jundice            0\n",
              "austim             0\n",
              "contry_of_res      0\n",
              "used_app_before    0\n",
              "age_desc           0\n",
              "relation           0\n",
              "Class/ASD          0\n",
              "dtype: int64"
            ]
          },
          "metadata": {
            "tags": []
          },
          "execution_count": 96
        }
      ]
    },
    {
      "cell_type": "markdown",
      "metadata": {
        "id": "08vbpqW0zKiK"
      },
      "source": [
        "Columns to number object: apply(pd.to_numeric)"
      ]
    },
    {
      "cell_type": "code",
      "metadata": {
        "id": "Tzr9_Bj8zT_Y"
      },
      "source": [
        "# transform A#_Score columns to number\n",
        "data[['A1_Score','A2_Score','A3_Score','A4_Score','A5_Score','A6_Score','A7_Score','A8_Score','A9_Score','A10_Score']] = data[['A1_Score','A2_Score','A3_Score','A4_Score','A5_Score','A6_Score','A7_Score','A8_Score','A9_Score','A10_Score']].apply(pd.to_numeric)"
      ],
      "execution_count": 97,
      "outputs": []
    },
    {
      "cell_type": "code",
      "metadata": {
        "colab": {
          "base_uri": "https://localhost:8080/"
        },
        "id": "CpnYexiF9oIr",
        "outputId": "b7ad00f0-0468-4fc7-8911-ed689203e182"
      },
      "source": [
        "print(data.dtypes)"
      ],
      "execution_count": 118,
      "outputs": [
        {
          "output_type": "stream",
          "text": [
            "A1_Score             int64\n",
            "A2_Score             int64\n",
            "A3_Score             int64\n",
            "A4_Score             int64\n",
            "A5_Score             int64\n",
            "A6_Score             int64\n",
            "A7_Score             int64\n",
            "A8_Score             int64\n",
            "A9_Score             int64\n",
            "A10_Score            int64\n",
            "gender              object\n",
            "age                float64\n",
            "ethnicity           object\n",
            "jundice             object\n",
            "austim              object\n",
            "contry_of_res       object\n",
            "used_app_before     object\n",
            "age_desc            object\n",
            "relation            object\n",
            "Class/ASD           object\n",
            "dtype: object\n"
          ],
          "name": "stdout"
        }
      ]
    },
    {
      "cell_type": "markdown",
      "metadata": {
        "id": "QgkrnQ190eif"
      },
      "source": [
        "##Exploratory Data Analysis - EDA"
      ]
    },
    {
      "cell_type": "code",
      "metadata": {
        "colab": {
          "base_uri": "https://localhost:8080/",
          "height": 287
        },
        "id": "PvjwgsHdzXqi",
        "outputId": "46fab002-109a-4020-8f3c-7fb31444b507"
      },
      "source": [
        "data.describe()\n",
        "#data.tail()"
      ],
      "execution_count": 119,
      "outputs": [
        {
          "output_type": "execute_result",
          "data": {
            "text/html": [
              "<div>\n",
              "<style scoped>\n",
              "    .dataframe tbody tr th:only-of-type {\n",
              "        vertical-align: middle;\n",
              "    }\n",
              "\n",
              "    .dataframe tbody tr th {\n",
              "        vertical-align: top;\n",
              "    }\n",
              "\n",
              "    .dataframe thead th {\n",
              "        text-align: right;\n",
              "    }\n",
              "</style>\n",
              "<table border=\"1\" class=\"dataframe\">\n",
              "  <thead>\n",
              "    <tr style=\"text-align: right;\">\n",
              "      <th></th>\n",
              "      <th>A1_Score</th>\n",
              "      <th>A2_Score</th>\n",
              "      <th>A3_Score</th>\n",
              "      <th>A4_Score</th>\n",
              "      <th>A5_Score</th>\n",
              "      <th>A6_Score</th>\n",
              "      <th>A7_Score</th>\n",
              "      <th>A8_Score</th>\n",
              "      <th>A9_Score</th>\n",
              "      <th>A10_Score</th>\n",
              "      <th>age</th>\n",
              "    </tr>\n",
              "  </thead>\n",
              "  <tbody>\n",
              "    <tr>\n",
              "      <th>count</th>\n",
              "      <td>292.000000</td>\n",
              "      <td>292.000000</td>\n",
              "      <td>292.000000</td>\n",
              "      <td>292.000000</td>\n",
              "      <td>292.000000</td>\n",
              "      <td>292.000000</td>\n",
              "      <td>292.000000</td>\n",
              "      <td>292.000000</td>\n",
              "      <td>292.000000</td>\n",
              "      <td>292.000000</td>\n",
              "      <td>288.000000</td>\n",
              "    </tr>\n",
              "    <tr>\n",
              "      <th>mean</th>\n",
              "      <td>0.633562</td>\n",
              "      <td>0.534247</td>\n",
              "      <td>0.743151</td>\n",
              "      <td>0.551370</td>\n",
              "      <td>0.743151</td>\n",
              "      <td>0.712329</td>\n",
              "      <td>0.606164</td>\n",
              "      <td>0.496575</td>\n",
              "      <td>0.493151</td>\n",
              "      <td>0.726027</td>\n",
              "      <td>6.354167</td>\n",
              "    </tr>\n",
              "    <tr>\n",
              "      <th>std</th>\n",
              "      <td>0.482658</td>\n",
              "      <td>0.499682</td>\n",
              "      <td>0.437646</td>\n",
              "      <td>0.498208</td>\n",
              "      <td>0.437646</td>\n",
              "      <td>0.453454</td>\n",
              "      <td>0.489438</td>\n",
              "      <td>0.500847</td>\n",
              "      <td>0.500811</td>\n",
              "      <td>0.446761</td>\n",
              "      <td>2.365456</td>\n",
              "    </tr>\n",
              "    <tr>\n",
              "      <th>min</th>\n",
              "      <td>0.000000</td>\n",
              "      <td>0.000000</td>\n",
              "      <td>0.000000</td>\n",
              "      <td>0.000000</td>\n",
              "      <td>0.000000</td>\n",
              "      <td>0.000000</td>\n",
              "      <td>0.000000</td>\n",
              "      <td>0.000000</td>\n",
              "      <td>0.000000</td>\n",
              "      <td>0.000000</td>\n",
              "      <td>4.000000</td>\n",
              "    </tr>\n",
              "    <tr>\n",
              "      <th>25%</th>\n",
              "      <td>0.000000</td>\n",
              "      <td>0.000000</td>\n",
              "      <td>0.000000</td>\n",
              "      <td>0.000000</td>\n",
              "      <td>0.000000</td>\n",
              "      <td>0.000000</td>\n",
              "      <td>0.000000</td>\n",
              "      <td>0.000000</td>\n",
              "      <td>0.000000</td>\n",
              "      <td>0.000000</td>\n",
              "      <td>4.000000</td>\n",
              "    </tr>\n",
              "    <tr>\n",
              "      <th>50%</th>\n",
              "      <td>1.000000</td>\n",
              "      <td>1.000000</td>\n",
              "      <td>1.000000</td>\n",
              "      <td>1.000000</td>\n",
              "      <td>1.000000</td>\n",
              "      <td>1.000000</td>\n",
              "      <td>1.000000</td>\n",
              "      <td>0.000000</td>\n",
              "      <td>0.000000</td>\n",
              "      <td>1.000000</td>\n",
              "      <td>6.000000</td>\n",
              "    </tr>\n",
              "    <tr>\n",
              "      <th>75%</th>\n",
              "      <td>1.000000</td>\n",
              "      <td>1.000000</td>\n",
              "      <td>1.000000</td>\n",
              "      <td>1.000000</td>\n",
              "      <td>1.000000</td>\n",
              "      <td>1.000000</td>\n",
              "      <td>1.000000</td>\n",
              "      <td>1.000000</td>\n",
              "      <td>1.000000</td>\n",
              "      <td>1.000000</td>\n",
              "      <td>8.000000</td>\n",
              "    </tr>\n",
              "    <tr>\n",
              "      <th>max</th>\n",
              "      <td>1.000000</td>\n",
              "      <td>1.000000</td>\n",
              "      <td>1.000000</td>\n",
              "      <td>1.000000</td>\n",
              "      <td>1.000000</td>\n",
              "      <td>1.000000</td>\n",
              "      <td>1.000000</td>\n",
              "      <td>1.000000</td>\n",
              "      <td>1.000000</td>\n",
              "      <td>1.000000</td>\n",
              "      <td>11.000000</td>\n",
              "    </tr>\n",
              "  </tbody>\n",
              "</table>\n",
              "</div>"
            ],
            "text/plain": [
              "         A1_Score    A2_Score    A3_Score  ...    A9_Score   A10_Score         age\n",
              "count  292.000000  292.000000  292.000000  ...  292.000000  292.000000  288.000000\n",
              "mean     0.633562    0.534247    0.743151  ...    0.493151    0.726027    6.354167\n",
              "std      0.482658    0.499682    0.437646  ...    0.500811    0.446761    2.365456\n",
              "min      0.000000    0.000000    0.000000  ...    0.000000    0.000000    4.000000\n",
              "25%      0.000000    0.000000    0.000000  ...    0.000000    0.000000    4.000000\n",
              "50%      1.000000    1.000000    1.000000  ...    0.000000    1.000000    6.000000\n",
              "75%      1.000000    1.000000    1.000000  ...    1.000000    1.000000    8.000000\n",
              "max      1.000000    1.000000    1.000000  ...    1.000000    1.000000   11.000000\n",
              "\n",
              "[8 rows x 11 columns]"
            ]
          },
          "metadata": {
            "tags": []
          },
          "execution_count": 119
        }
      ]
    },
    {
      "cell_type": "code",
      "metadata": {
        "colab": {
          "base_uri": "https://localhost:8080/",
          "height": 878
        },
        "id": "YfambZnO9yKf",
        "outputId": "048a70a7-91c4-4e8d-d387-12e63c014ede"
      },
      "source": [
        "# call hist method\n",
        "data.hist(bins=50, figsize=(20,15));"
      ],
      "execution_count": 100,
      "outputs": [
        {
          "output_type": "display_data",
          "data": {
            "image/png": "[encoded data removed]",
            "text/plain": [
              "<Figure size 1440x1080 with 12 Axes>"
            ]
          },
          "metadata": {
            "tags": [],
            "needs_background": "light"
          }
        }
      ]
    },
    {
      "cell_type": "markdown",
      "metadata": {
        "id": "4W4jCaj_EpE4"
      },
      "source": [
        "# More EAD using seaborn\n",
        "\n",
        "**Histogram of the age**"
      ]
    },
    {
      "cell_type": "code",
      "metadata": {
        "colab": {
          "base_uri": "https://localhost:8080/",
          "height": 264
        },
        "id": "jpfu8vXzEnRp",
        "outputId": "76f0772b-fed6-425f-e6be-54ce92ed03bf"
      },
      "source": [
        "data['age'].plot.hist(bins=30);"
      ],
      "execution_count": 178,
      "outputs": [
        {
          "output_type": "display_data",
          "data": {
            "image/png": "[encoded data removed]",
            "text/plain": [
              "<Figure size 432x288 with 1 Axes>"
            ]
          },
          "metadata": {
            "tags": [],
            "needs_background": "light"
          }
        }
      ]
    },
    {
      "cell_type": "markdown",
      "metadata": {
        "id": "0PrfALwqFixf"
      },
      "source": [
        "#Categorical scatterplots showing ASD versus Age"
      ]
    },
    {
      "cell_type": "code",
      "metadata": {
        "colab": {
          "base_uri": "https://localhost:8080/",
          "height": 1000
        },
        "id": "uXf4B4OcFukF",
        "outputId": "67815574-3275-49f3-9344-83d4691c47c5"
      },
      "source": [
        "# contry_of_res\n",
        "\n",
        "sns.catplot(x=\"age\", y=\"ethnicity\", hue=\"Class/ASD\", kind=\"violin\", split=True, data=data, height=8.27, aspect=11.7/8.27);\n",
        "sns.catplot(x=\"ethnicity\", y=\"age\", hue=\"Class/ASD\", kind=\"box\", data=data, height=8.27, aspect=11.7/8.27);\n",
        "sns.catplot(x=\"ethnicity\", y=\"age\", hue=\"Class/ASD\", kind=\"bar\", data=data, height=8.27, aspect=11.7/8.27);\n"
      ],
      "execution_count": 182,
      "outputs": [
        {
          "output_type": "display_data",
          "data": {
            "image/png": "[encoded data removed]",
            "text/plain": [
              "<Figure size 901.025x595.44 with 1 Axes>"
            ]
          },
          "metadata": {
            "tags": [],
            "needs_background": "light"
          }
        },
        {
          "output_type": "display_data",
          "data": {
            "image/png": "[encoded data removed]",
            "text/plain": [
              "<Figure size 901.025x595.44 with 1 Axes>"
            ]
          },
          "metadata": {
            "tags": [],
            "needs_background": "light"
          }
        },
        {
          "output_type": "display_data",
          "data": {
            "image/png": "[encoded data removed]",
            "text/plain": [
              "<Figure size 901.025x595.44 with 1 Axes>"
            ]
          },
          "metadata": {
            "tags": [],
            "needs_background": "light"
          }
        }
      ]
    },
    {
      "cell_type": "markdown",
      "metadata": {
        "id": "0B3Z0wX4Avoi"
      },
      "source": [
        "# Check data correlation"
      ]
    },
    {
      "cell_type": "code",
      "metadata": {
        "colab": {
          "base_uri": "https://localhost:8080/",
          "height": 377
        },
        "id": "kwbKR0Wn_PyD",
        "outputId": "a90f4696-a4c0-46ed-cc00-cd466897591c"
      },
      "source": [
        "# correlation among every pair of the features using person method.\n",
        "# Pearson method is the standard correlation coefficient available in Pandas.\n",
        "data.corr(method='pearson')"
      ],
      "execution_count": 101,
      "outputs": [
        {
          "output_type": "execute_result",
          "data": {
            "text/html": [
              "<div>\n",
              "<style scoped>\n",
              "    .dataframe tbody tr th:only-of-type {\n",
              "        vertical-align: middle;\n",
              "    }\n",
              "\n",
              "    .dataframe tbody tr th {\n",
              "        vertical-align: top;\n",
              "    }\n",
              "\n",
              "    .dataframe thead th {\n",
              "        text-align: right;\n",
              "    }\n",
              "</style>\n",
              "<table border=\"1\" class=\"dataframe\">\n",
              "  <thead>\n",
              "    <tr style=\"text-align: right;\">\n",
              "      <th></th>\n",
              "      <th>A1_Score</th>\n",
              "      <th>A2_Score</th>\n",
              "      <th>A3_Score</th>\n",
              "      <th>A4_Score</th>\n",
              "      <th>A5_Score</th>\n",
              "      <th>A6_Score</th>\n",
              "      <th>A7_Score</th>\n",
              "      <th>A8_Score</th>\n",
              "      <th>A9_Score</th>\n",
              "      <th>A10_Score</th>\n",
              "      <th>age</th>\n",
              "    </tr>\n",
              "  </thead>\n",
              "  <tbody>\n",
              "    <tr>\n",
              "      <th>A1_Score</th>\n",
              "      <td>1.000000</td>\n",
              "      <td>0.030840</td>\n",
              "      <td>0.073486</td>\n",
              "      <td>0.271476</td>\n",
              "      <td>0.154828</td>\n",
              "      <td>0.113350</td>\n",
              "      <td>0.027051</td>\n",
              "      <td>0.058761</td>\n",
              "      <td>0.153071</td>\n",
              "      <td>0.106534</td>\n",
              "      <td>0.101390</td>\n",
              "    </tr>\n",
              "    <tr>\n",
              "      <th>A2_Score</th>\n",
              "      <td>0.030840</td>\n",
              "      <td>1.000000</td>\n",
              "      <td>0.111075</td>\n",
              "      <td>0.124046</td>\n",
              "      <td>-0.046066</td>\n",
              "      <td>0.134627</td>\n",
              "      <td>0.020211</td>\n",
              "      <td>0.021067</td>\n",
              "      <td>0.083334</td>\n",
              "      <td>0.072961</td>\n",
              "      <td>-0.045817</td>\n",
              "    </tr>\n",
              "    <tr>\n",
              "      <th>A3_Score</th>\n",
              "      <td>0.073486</td>\n",
              "      <td>0.111075</td>\n",
              "      <td>1.000000</td>\n",
              "      <td>0.273490</td>\n",
              "      <td>0.138802</td>\n",
              "      <td>0.232463</td>\n",
              "      <td>0.007417</td>\n",
              "      <td>0.191943</td>\n",
              "      <td>0.250645</td>\n",
              "      <td>0.148550</td>\n",
              "      <td>-0.140640</td>\n",
              "    </tr>\n",
              "    <tr>\n",
              "      <th>A4_Score</th>\n",
              "      <td>0.271476</td>\n",
              "      <td>0.124046</td>\n",
              "      <td>0.273490</td>\n",
              "      <td>1.000000</td>\n",
              "      <td>0.115884</td>\n",
              "      <td>0.354650</td>\n",
              "      <td>0.019836</td>\n",
              "      <td>0.289916</td>\n",
              "      <td>0.338849</td>\n",
              "      <td>0.125205</td>\n",
              "      <td>0.170580</td>\n",
              "    </tr>\n",
              "    <tr>\n",
              "      <th>A5_Score</th>\n",
              "      <td>0.154828</td>\n",
              "      <td>-0.046066</td>\n",
              "      <td>0.138802</td>\n",
              "      <td>0.115884</td>\n",
              "      <td>1.000000</td>\n",
              "      <td>0.180515</td>\n",
              "      <td>0.183891</td>\n",
              "      <td>0.144910</td>\n",
              "      <td>0.078179</td>\n",
              "      <td>0.254003</td>\n",
              "      <td>-0.069615</td>\n",
              "    </tr>\n",
              "    <tr>\n",
              "      <th>A6_Score</th>\n",
              "      <td>0.113350</td>\n",
              "      <td>0.134627</td>\n",
              "      <td>0.232463</td>\n",
              "      <td>0.354650</td>\n",
              "      <td>0.180515</td>\n",
              "      <td>1.000000</td>\n",
              "      <td>-0.047724</td>\n",
              "      <td>0.298268</td>\n",
              "      <td>0.278804</td>\n",
              "      <td>0.254210</td>\n",
              "      <td>0.043490</td>\n",
              "    </tr>\n",
              "    <tr>\n",
              "      <th>A7_Score</th>\n",
              "      <td>0.027051</td>\n",
              "      <td>0.020211</td>\n",
              "      <td>0.007417</td>\n",
              "      <td>0.019836</td>\n",
              "      <td>0.183891</td>\n",
              "      <td>-0.047724</td>\n",
              "      <td>1.000000</td>\n",
              "      <td>0.155693</td>\n",
              "      <td>0.220280</td>\n",
              "      <td>0.039182</td>\n",
              "      <td>0.123534</td>\n",
              "    </tr>\n",
              "    <tr>\n",
              "      <th>A8_Score</th>\n",
              "      <td>0.058761</td>\n",
              "      <td>0.021067</td>\n",
              "      <td>0.191943</td>\n",
              "      <td>0.289916</td>\n",
              "      <td>0.144910</td>\n",
              "      <td>0.298268</td>\n",
              "      <td>0.155693</td>\n",
              "      <td>1.000000</td>\n",
              "      <td>0.212260</td>\n",
              "      <td>0.149370</td>\n",
              "      <td>0.052083</td>\n",
              "    </tr>\n",
              "    <tr>\n",
              "      <th>A9_Score</th>\n",
              "      <td>0.153071</td>\n",
              "      <td>0.083334</td>\n",
              "      <td>0.250645</td>\n",
              "      <td>0.338849</td>\n",
              "      <td>0.078179</td>\n",
              "      <td>0.278804</td>\n",
              "      <td>0.220280</td>\n",
              "      <td>0.212260</td>\n",
              "      <td>1.000000</td>\n",
              "      <td>0.191249</td>\n",
              "      <td>0.092211</td>\n",
              "    </tr>\n",
              "    <tr>\n",
              "      <th>A10_Score</th>\n",
              "      <td>0.106534</td>\n",
              "      <td>0.072961</td>\n",
              "      <td>0.148550</td>\n",
              "      <td>0.125205</td>\n",
              "      <td>0.254003</td>\n",
              "      <td>0.254210</td>\n",
              "      <td>0.039182</td>\n",
              "      <td>0.149370</td>\n",
              "      <td>0.191249</td>\n",
              "      <td>1.000000</td>\n",
              "      <td>0.035157</td>\n",
              "    </tr>\n",
              "    <tr>\n",
              "      <th>age</th>\n",
              "      <td>0.101390</td>\n",
              "      <td>-0.045817</td>\n",
              "      <td>-0.140640</td>\n",
              "      <td>0.170580</td>\n",
              "      <td>-0.069615</td>\n",
              "      <td>0.043490</td>\n",
              "      <td>0.123534</td>\n",
              "      <td>0.052083</td>\n",
              "      <td>0.092211</td>\n",
              "      <td>0.035157</td>\n",
              "      <td>1.000000</td>\n",
              "    </tr>\n",
              "  </tbody>\n",
              "</table>\n",
              "</div>"
            ],
            "text/plain": [
              "           A1_Score  A2_Score  A3_Score  ...  A9_Score  A10_Score       age\n",
              "A1_Score   1.000000  0.030840  0.073486  ...  0.153071   0.106534  0.101390\n",
              "A2_Score   0.030840  1.000000  0.111075  ...  0.083334   0.072961 -0.045817\n",
              "A3_Score   0.073486  0.111075  1.000000  ...  0.250645   0.148550 -0.140640\n",
              "A4_Score   0.271476  0.124046  0.273490  ...  0.338849   0.125205  0.170580\n",
              "A5_Score   0.154828 -0.046066  0.138802  ...  0.078179   0.254003 -0.069615\n",
              "A6_Score   0.113350  0.134627  0.232463  ...  0.278804   0.254210  0.043490\n",
              "A7_Score   0.027051  0.020211  0.007417  ...  0.220280   0.039182  0.123534\n",
              "A8_Score   0.058761  0.021067  0.191943  ...  0.212260   0.149370  0.052083\n",
              "A9_Score   0.153071  0.083334  0.250645  ...  1.000000   0.191249  0.092211\n",
              "A10_Score  0.106534  0.072961  0.148550  ...  0.191249   1.000000  0.035157\n",
              "age        0.101390 -0.045817 -0.140640  ...  0.092211   0.035157  1.000000\n",
              "\n",
              "[11 rows x 11 columns]"
            ]
          },
          "metadata": {
            "tags": []
          },
          "execution_count": 101
        }
      ]
    },
    {
      "cell_type": "code",
      "metadata": {
        "colab": {
          "base_uri": "https://localhost:8080/",
          "height": 197
        },
        "id": "kHQCeh62_9t7",
        "outputId": "f587f4b9-1077-4d4e-db8e-debf96c4ace8"
      },
      "source": [
        "# call pandas scatter_matrix\n",
        "#scatter_matrix(data, figsize=(12,8));\n",
        "data.head(5)"
      ],
      "execution_count": 102,
      "outputs": [
        {
          "output_type": "execute_result",
          "data": {
            "text/html": [
              "<div>\n",
              "<style scoped>\n",
              "    .dataframe tbody tr th:only-of-type {\n",
              "        vertical-align: middle;\n",
              "    }\n",
              "\n",
              "    .dataframe tbody tr th {\n",
              "        vertical-align: top;\n",
              "    }\n",
              "\n",
              "    .dataframe thead th {\n",
              "        text-align: right;\n",
              "    }\n",
              "</style>\n",
              "<table border=\"1\" class=\"dataframe\">\n",
              "  <thead>\n",
              "    <tr style=\"text-align: right;\">\n",
              "      <th></th>\n",
              "      <th>A1_Score</th>\n",
              "      <th>A2_Score</th>\n",
              "      <th>A3_Score</th>\n",
              "      <th>A4_Score</th>\n",
              "      <th>A5_Score</th>\n",
              "      <th>A6_Score</th>\n",
              "      <th>A7_Score</th>\n",
              "      <th>A8_Score</th>\n",
              "      <th>A9_Score</th>\n",
              "      <th>A10_Score</th>\n",
              "      <th>gender</th>\n",
              "      <th>age</th>\n",
              "      <th>ethnicity</th>\n",
              "      <th>jundice</th>\n",
              "      <th>austim</th>\n",
              "      <th>contry_of_res</th>\n",
              "      <th>used_app_before</th>\n",
              "      <th>age_desc</th>\n",
              "      <th>relation</th>\n",
              "      <th>Class/ASD</th>\n",
              "    </tr>\n",
              "  </thead>\n",
              "  <tbody>\n",
              "    <tr>\n",
              "      <th>0</th>\n",
              "      <td>1</td>\n",
              "      <td>1</td>\n",
              "      <td>0</td>\n",
              "      <td>0</td>\n",
              "      <td>1</td>\n",
              "      <td>1</td>\n",
              "      <td>0</td>\n",
              "      <td>1</td>\n",
              "      <td>0</td>\n",
              "      <td>0</td>\n",
              "      <td>m</td>\n",
              "      <td>6.0</td>\n",
              "      <td>Others</td>\n",
              "      <td>no</td>\n",
              "      <td>no</td>\n",
              "      <td>Jordan</td>\n",
              "      <td>no</td>\n",
              "      <td>4-11 years</td>\n",
              "      <td>Parent</td>\n",
              "      <td>NO</td>\n",
              "    </tr>\n",
              "    <tr>\n",
              "      <th>1</th>\n",
              "      <td>1</td>\n",
              "      <td>1</td>\n",
              "      <td>0</td>\n",
              "      <td>0</td>\n",
              "      <td>1</td>\n",
              "      <td>1</td>\n",
              "      <td>0</td>\n",
              "      <td>1</td>\n",
              "      <td>0</td>\n",
              "      <td>0</td>\n",
              "      <td>m</td>\n",
              "      <td>6.0</td>\n",
              "      <td>Middle Eastern</td>\n",
              "      <td>no</td>\n",
              "      <td>no</td>\n",
              "      <td>Jordan</td>\n",
              "      <td>no</td>\n",
              "      <td>4-11 years</td>\n",
              "      <td>Parent</td>\n",
              "      <td>NO</td>\n",
              "    </tr>\n",
              "    <tr>\n",
              "      <th>2</th>\n",
              "      <td>1</td>\n",
              "      <td>1</td>\n",
              "      <td>0</td>\n",
              "      <td>0</td>\n",
              "      <td>0</td>\n",
              "      <td>1</td>\n",
              "      <td>1</td>\n",
              "      <td>1</td>\n",
              "      <td>0</td>\n",
              "      <td>0</td>\n",
              "      <td>m</td>\n",
              "      <td>6.0</td>\n",
              "      <td>?</td>\n",
              "      <td>no</td>\n",
              "      <td>no</td>\n",
              "      <td>Jordan</td>\n",
              "      <td>yes</td>\n",
              "      <td>4-11 years</td>\n",
              "      <td>?</td>\n",
              "      <td>NO</td>\n",
              "    </tr>\n",
              "    <tr>\n",
              "      <th>3</th>\n",
              "      <td>0</td>\n",
              "      <td>1</td>\n",
              "      <td>0</td>\n",
              "      <td>0</td>\n",
              "      <td>1</td>\n",
              "      <td>1</td>\n",
              "      <td>0</td>\n",
              "      <td>0</td>\n",
              "      <td>0</td>\n",
              "      <td>1</td>\n",
              "      <td>f</td>\n",
              "      <td>5.0</td>\n",
              "      <td>?</td>\n",
              "      <td>yes</td>\n",
              "      <td>no</td>\n",
              "      <td>Jordan</td>\n",
              "      <td>no</td>\n",
              "      <td>4-11 years</td>\n",
              "      <td>?</td>\n",
              "      <td>NO</td>\n",
              "    </tr>\n",
              "    <tr>\n",
              "      <th>4</th>\n",
              "      <td>1</td>\n",
              "      <td>1</td>\n",
              "      <td>1</td>\n",
              "      <td>1</td>\n",
              "      <td>1</td>\n",
              "      <td>1</td>\n",
              "      <td>1</td>\n",
              "      <td>1</td>\n",
              "      <td>1</td>\n",
              "      <td>1</td>\n",
              "      <td>m</td>\n",
              "      <td>5.0</td>\n",
              "      <td>Others</td>\n",
              "      <td>yes</td>\n",
              "      <td>no</td>\n",
              "      <td>United States</td>\n",
              "      <td>no</td>\n",
              "      <td>4-11 years</td>\n",
              "      <td>Parent</td>\n",
              "      <td>YES</td>\n",
              "    </tr>\n",
              "  </tbody>\n",
              "</table>\n",
              "</div>"
            ],
            "text/plain": [
              "   A1_Score  A2_Score  A3_Score  ...    age_desc  relation  Class/ASD\n",
              "0         1         1         0  ...  4-11 years    Parent         NO\n",
              "1         1         1         0  ...  4-11 years    Parent         NO\n",
              "2         1         1         0  ...  4-11 years         ?         NO\n",
              "3         0         1         0  ...  4-11 years         ?         NO\n",
              "4         1         1         1  ...  4-11 years    Parent        YES\n",
              "\n",
              "[5 rows x 20 columns]"
            ]
          },
          "metadata": {
            "tags": []
          },
          "execution_count": 102
        }
      ]
    },
    {
      "cell_type": "markdown",
      "metadata": {
        "id": "63sPQqCICQEC"
      },
      "source": [
        "#Preprocessing - data cleansing\n",
        "\n",
        "Data to be load in the ML model.\n",
        "Build a pipeline to deal with missing values, scalling, and transform string values to numeric."
      ]
    },
    {
      "cell_type": "code",
      "metadata": {
        "colab": {
          "base_uri": "https://localhost:8080/"
        },
        "id": "VfMWIOhOByVv",
        "outputId": "4c839aae-3b60-44bf-a633-f7cc718739f8"
      },
      "source": [
        "# X features, attributes columns\n",
        "X = data.drop(\"Class/ASD\", axis=1)\n",
        "\n",
        "# y labels/targets\n",
        "y = data[\"Class/ASD\"].copy()\n",
        "\n",
        "print('Features shape: ', len(X))\n",
        "print('Labels shape: ', len(y))"
      ],
      "execution_count": 103,
      "outputs": [
        {
          "output_type": "stream",
          "text": [
            "Features shape:  292\n",
            "Labels shape:  292\n"
          ],
          "name": "stdout"
        }
      ]
    },
    {
      "cell_type": "markdown",
      "metadata": {
        "id": "fy7oM97QD9lW"
      },
      "source": [
        "# Build a pipeline\n",
        "\n",
        "- missing data using SimpleImputer\n",
        "- OneHotEncode to categorical attributes\n",
        "- StandandScaler"
      ]
    },
    {
      "cell_type": "code",
      "metadata": {
        "id": "kC9UtArXDaTL"
      },
      "source": [
        "# testing with 2 features only\n",
        "#num_features = X[['A1_Score',\t'A2_Score']]\n",
        "\n",
        "# get all numeric attributes\n",
        "num_features = X.select_dtypes(include=[np.number])"
      ],
      "execution_count": 104,
      "outputs": []
    },
    {
      "cell_type": "code",
      "metadata": {
        "colab": {
          "base_uri": "https://localhost:8080/",
          "height": 406
        },
        "id": "5JU-jabYF-OI",
        "outputId": "c0a74725-528f-4355-cc6f-ddaaf9278936"
      },
      "source": [
        "num_features"
      ],
      "execution_count": 105,
      "outputs": [
        {
          "output_type": "execute_result",
          "data": {
            "text/html": [
              "<div>\n",
              "<style scoped>\n",
              "    .dataframe tbody tr th:only-of-type {\n",
              "        vertical-align: middle;\n",
              "    }\n",
              "\n",
              "    .dataframe tbody tr th {\n",
              "        vertical-align: top;\n",
              "    }\n",
              "\n",
              "    .dataframe thead th {\n",
              "        text-align: right;\n",
              "    }\n",
              "</style>\n",
              "<table border=\"1\" class=\"dataframe\">\n",
              "  <thead>\n",
              "    <tr style=\"text-align: right;\">\n",
              "      <th></th>\n",
              "      <th>A1_Score</th>\n",
              "      <th>A2_Score</th>\n",
              "      <th>A3_Score</th>\n",
              "      <th>A4_Score</th>\n",
              "      <th>A5_Score</th>\n",
              "      <th>A6_Score</th>\n",
              "      <th>A7_Score</th>\n",
              "      <th>A8_Score</th>\n",
              "      <th>A9_Score</th>\n",
              "      <th>A10_Score</th>\n",
              "      <th>age</th>\n",
              "    </tr>\n",
              "  </thead>\n",
              "  <tbody>\n",
              "    <tr>\n",
              "      <th>0</th>\n",
              "      <td>1</td>\n",
              "      <td>1</td>\n",
              "      <td>0</td>\n",
              "      <td>0</td>\n",
              "      <td>1</td>\n",
              "      <td>1</td>\n",
              "      <td>0</td>\n",
              "      <td>1</td>\n",
              "      <td>0</td>\n",
              "      <td>0</td>\n",
              "      <td>6.0</td>\n",
              "    </tr>\n",
              "    <tr>\n",
              "      <th>1</th>\n",
              "      <td>1</td>\n",
              "      <td>1</td>\n",
              "      <td>0</td>\n",
              "      <td>0</td>\n",
              "      <td>1</td>\n",
              "      <td>1</td>\n",
              "      <td>0</td>\n",
              "      <td>1</td>\n",
              "      <td>0</td>\n",
              "      <td>0</td>\n",
              "      <td>6.0</td>\n",
              "    </tr>\n",
              "    <tr>\n",
              "      <th>2</th>\n",
              "      <td>1</td>\n",
              "      <td>1</td>\n",
              "      <td>0</td>\n",
              "      <td>0</td>\n",
              "      <td>0</td>\n",
              "      <td>1</td>\n",
              "      <td>1</td>\n",
              "      <td>1</td>\n",
              "      <td>0</td>\n",
              "      <td>0</td>\n",
              "      <td>6.0</td>\n",
              "    </tr>\n",
              "    <tr>\n",
              "      <th>3</th>\n",
              "      <td>0</td>\n",
              "      <td>1</td>\n",
              "      <td>0</td>\n",
              "      <td>0</td>\n",
              "      <td>1</td>\n",
              "      <td>1</td>\n",
              "      <td>0</td>\n",
              "      <td>0</td>\n",
              "      <td>0</td>\n",
              "      <td>1</td>\n",
              "      <td>5.0</td>\n",
              "    </tr>\n",
              "    <tr>\n",
              "      <th>4</th>\n",
              "      <td>1</td>\n",
              "      <td>1</td>\n",
              "      <td>1</td>\n",
              "      <td>1</td>\n",
              "      <td>1</td>\n",
              "      <td>1</td>\n",
              "      <td>1</td>\n",
              "      <td>1</td>\n",
              "      <td>1</td>\n",
              "      <td>1</td>\n",
              "      <td>5.0</td>\n",
              "    </tr>\n",
              "    <tr>\n",
              "      <th>...</th>\n",
              "      <td>...</td>\n",
              "      <td>...</td>\n",
              "      <td>...</td>\n",
              "      <td>...</td>\n",
              "      <td>...</td>\n",
              "      <td>...</td>\n",
              "      <td>...</td>\n",
              "      <td>...</td>\n",
              "      <td>...</td>\n",
              "      <td>...</td>\n",
              "      <td>...</td>\n",
              "    </tr>\n",
              "    <tr>\n",
              "      <th>287</th>\n",
              "      <td>1</td>\n",
              "      <td>1</td>\n",
              "      <td>1</td>\n",
              "      <td>1</td>\n",
              "      <td>1</td>\n",
              "      <td>1</td>\n",
              "      <td>1</td>\n",
              "      <td>1</td>\n",
              "      <td>1</td>\n",
              "      <td>1</td>\n",
              "      <td>7.0</td>\n",
              "    </tr>\n",
              "    <tr>\n",
              "      <th>288</th>\n",
              "      <td>1</td>\n",
              "      <td>0</td>\n",
              "      <td>0</td>\n",
              "      <td>0</td>\n",
              "      <td>1</td>\n",
              "      <td>0</td>\n",
              "      <td>1</td>\n",
              "      <td>0</td>\n",
              "      <td>0</td>\n",
              "      <td>1</td>\n",
              "      <td>7.0</td>\n",
              "    </tr>\n",
              "    <tr>\n",
              "      <th>289</th>\n",
              "      <td>1</td>\n",
              "      <td>0</td>\n",
              "      <td>1</td>\n",
              "      <td>1</td>\n",
              "      <td>1</td>\n",
              "      <td>1</td>\n",
              "      <td>1</td>\n",
              "      <td>0</td>\n",
              "      <td>0</td>\n",
              "      <td>1</td>\n",
              "      <td>4.0</td>\n",
              "    </tr>\n",
              "    <tr>\n",
              "      <th>290</th>\n",
              "      <td>1</td>\n",
              "      <td>1</td>\n",
              "      <td>1</td>\n",
              "      <td>0</td>\n",
              "      <td>1</td>\n",
              "      <td>1</td>\n",
              "      <td>1</td>\n",
              "      <td>1</td>\n",
              "      <td>1</td>\n",
              "      <td>1</td>\n",
              "      <td>4.0</td>\n",
              "    </tr>\n",
              "    <tr>\n",
              "      <th>291</th>\n",
              "      <td>0</td>\n",
              "      <td>0</td>\n",
              "      <td>1</td>\n",
              "      <td>0</td>\n",
              "      <td>1</td>\n",
              "      <td>0</td>\n",
              "      <td>1</td>\n",
              "      <td>0</td>\n",
              "      <td>0</td>\n",
              "      <td>0</td>\n",
              "      <td>4.0</td>\n",
              "    </tr>\n",
              "  </tbody>\n",
              "</table>\n",
              "<p>292 rows × 11 columns</p>\n",
              "</div>"
            ],
            "text/plain": [
              "     A1_Score  A2_Score  A3_Score  A4_Score  ...  A8_Score  A9_Score  A10_Score  age\n",
              "0           1         1         0         0  ...         1         0          0  6.0\n",
              "1           1         1         0         0  ...         1         0          0  6.0\n",
              "2           1         1         0         0  ...         1         0          0  6.0\n",
              "3           0         1         0         0  ...         0         0          1  5.0\n",
              "4           1         1         1         1  ...         1         1          1  5.0\n",
              "..        ...       ...       ...       ...  ...       ...       ...        ...  ...\n",
              "287         1         1         1         1  ...         1         1          1  7.0\n",
              "288         1         0         0         0  ...         0         0          1  7.0\n",
              "289         1         0         1         1  ...         0         0          1  4.0\n",
              "290         1         1         1         0  ...         1         1          1  4.0\n",
              "291         0         0         1         0  ...         0         0          0  4.0\n",
              "\n",
              "[292 rows x 11 columns]"
            ]
          },
          "metadata": {
            "tags": []
          },
          "execution_count": 105
        }
      ]
    },
    {
      "cell_type": "code",
      "metadata": {
        "id": "A-Bsw0afF_vw"
      },
      "source": [
        "# IMPORT: numberical features as a list. If not, for some situations the Fit_Tansform will not work \n",
        "num_features = list(num_features)\n",
        "\n",
        "# pipeline for numerical attributes\n",
        "num_pipeline = Pipeline(steps=[\n",
        "                               ('imputer',  SimpleImputer(strategy='median')),\n",
        "                               ('std_scale', StandardScaler())])\n",
        "\n",
        "# categorical_features=['gender','age','ethnicity','jundice','austim']\n",
        "# categorical_features=['gender']\n",
        "#categorical_features= ['test']\n",
        "\n",
        "# get string features\n",
        "categorical_features = list(X.columns[X.dtypes == 'object'])          # set features parameters as a list\n",
        "\n",
        "#full pipeline using ColumnTransformer - deal with numerical and categorical features once\n",
        "full_pipeline=ColumnTransformer(transformers=[\n",
        "                                              ('num', num_pipeline, num_features),\n",
        "                                              ('categorical', OneHotEncoder(), categorical_features)])"
      ],
      "execution_count": 107,
      "outputs": []
    },
    {
      "cell_type": "code",
      "metadata": {
        "id": "vcAtBWwPckCl"
      },
      "source": [
        "# TODO:\n",
        "# Use the ColumnTransformer to apply the transformations to the correct columns in the dataframe.\n",
        "# integer_features = list(X.columns[X.dtypes == 'int64'])\n"
      ],
      "execution_count": 43,
      "outputs": []
    },
    {
      "cell_type": "code",
      "metadata": {
        "id": "V-kYcRq7YXfR"
      },
      "source": [
        "# fit and transformer full_pipeline\n",
        "# transformed data\n",
        "X_transformed = full_pipeline.fit_transform(X)"
      ],
      "execution_count": 108,
      "outputs": []
    },
    {
      "cell_type": "code",
      "metadata": {
        "colab": {
          "base_uri": "https://localhost:8080/"
        },
        "id": "Ol6Ie2wNZQ1E",
        "outputId": "e398280b-d893-4fb8-cd6c-7bf2bd65b4d8"
      },
      "source": [
        "print('Type for the data transformded after applying full pipeline :', type(X_transformed))"
      ],
      "execution_count": 109,
      "outputs": [
        {
          "output_type": "stream",
          "text": [
            "Type for the data transformded after applying full pipeline : <class 'scipy.sparse.csr.csr_matrix'>\n"
          ],
          "name": "stdout"
        }
      ]
    },
    {
      "cell_type": "markdown",
      "metadata": {
        "id": "6aia429C72yq"
      },
      "source": [
        "# Apply a Machine Learning Method\n"
      ]
    },
    {
      "cell_type": "markdown",
      "metadata": {
        "id": "Yc45PRs-7_kz"
      },
      "source": [
        "# Splitting the datasest transformed in **Train** and **Test**"
      ]
    },
    {
      "cell_type": "code",
      "metadata": {
        "id": "UchFij6K7-hw"
      },
      "source": [
        "X_train, X_test, y_train, y_test = train_test_split(X_transformed, y, test_size=0.3, random_state=42)"
      ],
      "execution_count": 110,
      "outputs": []
    },
    {
      "cell_type": "markdown",
      "metadata": {
        "id": "PgIrJTzw9fOS"
      },
      "source": [
        "# Fit and train the dataset"
      ]
    },
    {
      "cell_type": "code",
      "metadata": {
        "colab": {
          "base_uri": "https://localhost:8080/"
        },
        "id": "bhQVAka18xCE",
        "outputId": "81beb016-7554-4acc-f096-10ad9069d5be"
      },
      "source": [
        "# fit a logistic regression model\n",
        "clf_logr = LogisticRegression()   # defined an object\n",
        "\n",
        "clf_logr.fit(X_train, y_train)"
      ],
      "execution_count": 111,
      "outputs": [
        {
          "output_type": "execute_result",
          "data": {
            "text/plain": [
              "LogisticRegression(C=1.0, class_weight=None, dual=False, fit_intercept=True,\n",
              "                   intercept_scaling=1, l1_ratio=None, max_iter=100,\n",
              "                   multi_class='auto', n_jobs=None, penalty='l2',\n",
              "                   random_state=None, solver='lbfgs', tol=0.0001, verbose=0,\n",
              "                   warm_start=False)"
            ]
          },
          "metadata": {
            "tags": []
          },
          "execution_count": 111
        }
      ]
    },
    {
      "cell_type": "code",
      "metadata": {
        "colab": {
          "base_uri": "https://localhost:8080/"
        },
        "id": "YJEYdeoL9w2T",
        "outputId": "b2a52dde-84df-4b00-acb8-02631d4afe63"
      },
      "source": [
        "print('Logistic Regression model fitted against training dataset already preprocessing.')"
      ],
      "execution_count": 112,
      "outputs": [
        {
          "output_type": "stream",
          "text": [
            "Logistic Regression model fitted against training dataset already preprocessing.\n"
          ],
          "name": "stdout"
        }
      ]
    },
    {
      "cell_type": "markdown",
      "metadata": {
        "id": "EGcV3ft5-NUm"
      },
      "source": [
        "# Predicting against test dataset"
      ]
    },
    {
      "cell_type": "code",
      "metadata": {
        "id": "eQLUItiX-Mu2"
      },
      "source": [
        "acd_predictions = clf_logr.predict(X_test)"
      ],
      "execution_count": 113,
      "outputs": []
    },
    {
      "cell_type": "markdown",
      "metadata": {
        "id": "pVlBLJcu-ixu"
      },
      "source": [
        "# Model Metrics"
      ]
    },
    {
      "cell_type": "code",
      "metadata": {
        "colab": {
          "base_uri": "https://localhost:8080/"
        },
        "id": "hM1BhwhT-D3b",
        "outputId": "d6eedaea-b31c-4507-b826-718bbb225d28"
      },
      "source": [
        "print('Classification Report:')\n",
        "print(classification_report(y_test, acd_predictions))"
      ],
      "execution_count": 114,
      "outputs": [
        {
          "output_type": "stream",
          "text": [
            "Classification Report:\n",
            "              precision    recall  f1-score   support\n",
            "\n",
            "          NO       1.00      1.00      1.00        51\n",
            "         YES       1.00      1.00      1.00        37\n",
            "\n",
            "    accuracy                           1.00        88\n",
            "   macro avg       1.00      1.00      1.00        88\n",
            "weighted avg       1.00      1.00      1.00        88\n",
            "\n"
          ],
          "name": "stdout"
        }
      ]
    },
    {
      "cell_type": "code",
      "metadata": {
        "colab": {
          "base_uri": "https://localhost:8080/"
        },
        "id": "iggDUwc7-pKa",
        "outputId": "e9c7fd36-6735-4c0d-e185-066a5194600e"
      },
      "source": [
        "print('Confusion Matrix:')\n",
        "print(confusion_matrix(y_test, acd_predictions))"
      ],
      "execution_count": 115,
      "outputs": [
        {
          "output_type": "stream",
          "text": [
            "Confusion Matrix:\n",
            "[[51  0]\n",
            " [ 0 37]]\n"
          ],
          "name": "stdout"
        }
      ]
    },
    {
      "cell_type": "markdown",
      "metadata": {
        "id": "rVC9Ui85_Uqc"
      },
      "source": [
        "# The model seems to generalize very well!\n",
        "However, it needs a further investigation.\n",
        "**Overfitting** seems to be present!"
      ]
    }
  ]
}